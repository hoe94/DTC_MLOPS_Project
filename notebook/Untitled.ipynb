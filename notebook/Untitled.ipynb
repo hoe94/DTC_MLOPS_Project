{
 "cells": [
  {
   "cell_type": "code",
   "execution_count": 1,
   "id": "d3748db9-d246-4d4f-bff0-73985e4c1f91",
   "metadata": {},
   "outputs": [],
   "source": [
    "import mlflow\n",
    "from mlflow.tracking import MlflowClient"
   ]
  },
  {
   "cell_type": "code",
   "execution_count": 2,
   "id": "b0a61111-fdda-4a07-9641-c0f91118cdb6",
   "metadata": {},
   "outputs": [],
   "source": [
    "mlflow.set_tracking_uri('http://localhost:5000')"
   ]
  },
  {
   "cell_type": "code",
   "execution_count": 15,
   "id": "70c0308b-6279-420d-afbe-83bd834c313a",
   "metadata": {},
   "outputs": [
    {
     "name": "stdout",
     "output_type": "stream",
     "text": [
      "version: 1, stage: Production\n",
      "version: 2, stage: Staging\n"
     ]
    }
   ],
   "source": [
    "client = MlflowClient()\n",
    "\n",
    "latest_versions = client.get_latest_versions(name = \"Credit_Score_Model\")\n",
    "for version in latest_versions:\n",
    "    print(f\"version: {version.version}, stage: {version.current_stage}\")"
   ]
  },
  {
   "cell_type": "code",
   "execution_count": 16,
   "id": "f7db2b15-d2af-4bdb-8ae6-62504105fa63",
   "metadata": {},
   "outputs": [
    {
     "data": {
      "text/plain": [
       "2"
      ]
     },
     "execution_count": 16,
     "metadata": {},
     "output_type": "execute_result"
    }
   ],
   "source": [
    "len(latest_versions)"
   ]
  },
  {
   "cell_type": "code",
   "execution_count": 75,
   "id": "07ee722e-9558-479f-90ab-4da88bfb0daf",
   "metadata": {},
   "outputs": [
    {
     "name": "stdout",
     "output_type": "stream",
     "text": [
      "Production\n"
     ]
    }
   ],
   "source": [
    "print(latest_versions[0].current_stage)"
   ]
  },
  {
   "cell_type": "code",
   "execution_count": 76,
   "id": "05ec9927-fa3d-443d-8432-4a1a92658f98",
   "metadata": {},
   "outputs": [
    {
     "name": "stdout",
     "output_type": "stream",
     "text": [
      "1 None\n"
     ]
    }
   ],
   "source": [
    "latest_transitions_version = len(latest_versions)-1\n",
    "latest_transitions_current_stage = latest_versions[latest_transitions_version].current_stage\n",
    "print(latest_transitions_version, latest_transitions_current_stage)"
   ]
  },
  {
   "cell_type": "code",
   "execution_count": 23,
   "id": "16e3e1e5-0ac2-41e1-a99d-ff989191968d",
   "metadata": {},
   "outputs": [],
   "source": [
    "client = MlflowClient()\n",
    "best_performace_runs = client.search_runs(\n",
    "    experiment_ids = 1,\n",
    "    filter_string = \"metrics.accuracy > 0.70\",\n",
    "    order_by = ['metrics.accuracy DESC']\n",
    ")[0]"
   ]
  },
  {
   "cell_type": "code",
   "execution_count": 24,
   "id": "28649048-f57a-4b36-b69a-963f1e345500",
   "metadata": {},
   "outputs": [
    {
     "data": {
      "text/plain": [
       "<Run: data=<RunData: metrics={'accuracy': 0.7606034630550317}, params={'max_depth': '20',\n",
       " 'min_samples_leaf': '2',\n",
       " 'min_samples_split': '3',\n",
       " 'n_estimators': '39',\n",
       " 'random_state': '42'}, tags={'ml_algorithm': 'random_forest',\n",
       " 'mlflow.log-model.history': '[{\"run_id\": \"fc8fc40e505c49c1a59531320e160375\", '\n",
       "                             '\"artifact_path\": \"artifact_folder\", '\n",
       "                             '\"utc_time_created\": \"2022-08-20 '\n",
       "                             '04:24:44.894214\", \"flavors\": {\"python_function\": '\n",
       "                             '{\"model_path\": \"model.pkl\", \"loader_module\": '\n",
       "                             '\"mlflow.sklearn\", \"python_version\": \"3.7.6\", '\n",
       "                             '\"env\": \"conda.yaml\"}, \"sklearn\": '\n",
       "                             '{\"pickled_model\": \"model.pkl\", '\n",
       "                             '\"sklearn_version\": \"1.0.2\", '\n",
       "                             '\"serialization_format\": \"cloudpickle\", \"code\": '\n",
       "                             'null}}, \"model_uuid\": '\n",
       "                             '\"5793c607e7b74fb8bed93a24279f5a55\", '\n",
       "                             '\"mlflow_version\": \"1.28.0\"}]',\n",
       " 'mlflow.runName': '08202022_1_Random_Forest',\n",
       " 'mlflow.source.name': 'src/train.py',\n",
       " 'mlflow.source.type': 'LOCAL',\n",
       " 'mlflow.user': 'Hoe'}>, info=<RunInfo: artifact_uri='s3://stg-mlops-project-bucket/1/fc8fc40e505c49c1a59531320e160375/artifacts', end_time=1660969525890, experiment_id='1', lifecycle_stage='active', run_id='fc8fc40e505c49c1a59531320e160375', run_uuid='fc8fc40e505c49c1a59531320e160375', start_time=1660969456572, status='FINISHED', user_id='Hoe'>>"
      ]
     },
     "execution_count": 24,
     "metadata": {},
     "output_type": "execute_result"
    }
   ],
   "source": [
    "best_performace_runs"
   ]
  },
  {
   "cell_type": "code",
   "execution_count": 25,
   "id": "92e395be-34ed-44a6-8caf-987a4aceb8df",
   "metadata": {},
   "outputs": [
    {
     "data": {
      "text/plain": [
       "'s3://stg-mlops-project-bucket/1/fc8fc40e505c49c1a59531320e160375/artifacts'"
      ]
     },
     "execution_count": 25,
     "metadata": {},
     "output_type": "execute_result"
    }
   ],
   "source": [
    "best_performace_runs.info.artifact_uri"
   ]
  },
  {
   "cell_type": "code",
   "execution_count": 26,
   "id": "99893c34-f114-44f5-88db-ebedc32a075a",
   "metadata": {},
   "outputs": [
    {
     "data": {
      "text/plain": [
       "'08202022_1_Random_Forest'"
      ]
     },
     "execution_count": 26,
     "metadata": {},
     "output_type": "execute_result"
    }
   ],
   "source": [
    "best_performace_runs.data.tags['mlflow.runName']"
   ]
  },
  {
   "cell_type": "code",
   "execution_count": 6,
   "id": "e8788eb7-815f-4796-8681-c53d3982458e",
   "metadata": {},
   "outputs": [],
   "source": [
    "all_transitions = client.get_latest_versions(name = \"Credit_Score_Model\")\n",
    "latest_transitions_version = len(all_transitions)-1\n",
    "latest_transitions_current_stage = all_transitions[latest_transitions_version].current_stage"
   ]
  },
  {
   "cell_type": "code",
   "execution_count": 10,
   "id": "f7af8e67-a48b-4d16-96bd-d4225ee08a31",
   "metadata": {},
   "outputs": [],
   "source": [
    "best_performace_runs = client.search_runs(\n",
    "        experiment_ids = 1,\n",
    "        filter_string = \"metrics.accuracy > 0.70\",\n",
    "        order_by = ['metrics.accuracy DESC']\n",
    "    )[0]"
   ]
  },
  {
   "cell_type": "code",
   "execution_count": 11,
   "id": "397bfb5d-b570-4856-903f-f81d29b035d9",
   "metadata": {},
   "outputs": [],
   "source": [
    "best_performace_runs_name = best_performace_runs.data.tags['mlflow.runName'] #Get the run name from the best performance runs"
   ]
  },
  {
   "cell_type": "code",
   "execution_count": 13,
   "id": "e350d529-27de-45b7-8f66-1d0c14139e61",
   "metadata": {},
   "outputs": [],
   "source": [
    "model_uri = best_performace_runs.info.run_id"
   ]
  },
  {
   "cell_type": "code",
   "execution_count": 14,
   "id": "056268c4-3bf6-44a7-b680-f2f98860d40c",
   "metadata": {},
   "outputs": [
    {
     "data": {
      "text/plain": [
       "'9fb032dbc9934bb597014dcaacc97766'"
      ]
     },
     "execution_count": 14,
     "metadata": {},
     "output_type": "execute_result"
    }
   ],
   "source": [
    "model_uri"
   ]
  },
  {
   "cell_type": "code",
   "execution_count": null,
   "id": "edc5ba78-c4b4-4c2b-9b21-c1043f7f77ce",
   "metadata": {},
   "outputs": [],
   "source": []
  }
 ],
 "metadata": {
  "kernelspec": {
   "display_name": "Python 3 (ipykernel)",
   "language": "python",
   "name": "python3"
  },
  "language_info": {
   "codemirror_mode": {
    "name": "ipython",
    "version": 3
   },
   "file_extension": ".py",
   "mimetype": "text/x-python",
   "name": "python",
   "nbconvert_exporter": "python",
   "pygments_lexer": "ipython3",
   "version": "3.7.6"
  }
 },
 "nbformat": 4,
 "nbformat_minor": 5
}
