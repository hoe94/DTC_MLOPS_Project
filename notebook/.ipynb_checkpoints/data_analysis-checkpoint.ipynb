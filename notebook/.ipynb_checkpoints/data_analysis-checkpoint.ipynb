{
 "cells": [
  {
   "cell_type": "code",
   "execution_count": 1,
   "id": "07def4e3-8acd-4c5d-80fc-eb8c88b383ae",
   "metadata": {},
   "outputs": [],
   "source": [
    "import pandas as pd\n",
    "import numpy as np\n",
    "pd.set_option(\"display.max_columns\", 500)\n",
    "pd.set_option(\"display.width\", 1000)\n",
    "import matplotlib.pyplot as plt\n",
    "import seaborn as sns\n",
    "\n",
    "import warnings\n",
    "warnings.filterwarnings(\"ignore\")"
   ]
  },
  {
   "cell_type": "code",
   "execution_count": 2,
   "id": "57177bbf-003d-4cfe-91ee-2059ccc293c3",
   "metadata": {
    "tags": []
   },
   "outputs": [],
   "source": [
    "df = pd.read_csv(\"../data/train.csv\")"
   ]
  },
  {
   "cell_type": "markdown",
   "id": "8c952e4c-2421-412d-a928-39227d630cea",
   "metadata": {},
   "source": [
    "> ### ```Contents```\n",
    "\n",
    "0. [Dataset Metadata](#ch0)\n",
    "1. [Basic Checking](#ch1)\n",
    "2. [Data Analysis](#ch2)\n",
    "3. [Data type conversion](#ch3)"
   ]
  },
  {
   "cell_type": "markdown",
   "id": "ed9fd0fb-13c6-4ae3-91c4-138c2a4292c2",
   "metadata": {},
   "source": [
    "<a id = 'ch0'> </a>\n",
    "### Metadata\n",
    "\n",
    "1. **ID**: Represents a unique identification of an entry\n",
    "2. **Customer_ID**: Represents a unique identification of a person\n",
    "3. **Month**: Represents the month of the year\n",
    "4. **Name**: Represents the name of a person\n",
    "5. **Age**: Represents the age of the person\n",
    "6. **SSN**: Represents the social security number of a person\n",
    "7. **Occupation**: Represents the occupation of the person\n",
    "8. **Annual_Income**: Represents the annual income of the person\n",
    "9. **Monthly_Inhand_Salary**: Represents the monthly base salary of a person\n",
    "10. **Num_Bank_Accounts**: Represents the number of bank accounts a person holds\n",
    "11. **Num_Credit_Card**: Represents the number of other credit cards held by a person\n",
    "12. **Interest_Rate**: Represents the interest rate on credit card\n",
    "13. **Num_of_Loan**: Represents the number of loans taken from the bank\n",
    "14. **Type_of_Loan**: Represents the types of loan taken by a person\n",
    "15. **Delay_from_due_date**: Represents the average number of days delayed from the payment date\n",
    "16. **Num_of_Delayed_Payment**: Represents the average number of payments delayed by a person\n",
    "17. **Changed_Credit_Limit**: Represents the percentage change in credit card limit\n",
    "18. **Num_Credit_Inquiries**: Represents the number of credit card inquiries\n",
    "19. **Credit_Mix**: Represents the classification of the mix of creditS\n",
    "20. **Outstanding_Debt**: Represents the remaining debt to be paid (in USD)\n",
    "21. **Credit_Utilization_Ratio**: Represents the utilization ratio of credit card\n",
    "22. **Credit_History_Age**: Represents the age of credit history of the person\n",
    "23. **Payment_of_Min_Amount**: Represents whether only the minimum amount was paid by the person\n",
    "24. **Total_EMI_per_month**: Represents the monthly EMI payments (in USD)\n",
    "25. **Amount_invested_monthly**: Represents the monthly amount invested by the customer (in USD)\n",
    "26. **Payment_Behaviour**: Represents the payment behavior of the customer (in USD)\n",
    "27. **Monthly_Balance**: Represents the monthly balance amount of the customer (in USD)\n",
    "28. **Credit_Score**: Represents the bracket of credit score (Poor, Standard, Good)"
   ]
  },
  {
   "cell_type": "markdown",
   "id": "64e27aef-7e69-4570-a9df-1e7edaae7e0c",
   "metadata": {
    "tags": []
   },
   "source": [
    "<a id = 'ch1'></a>\n",
    "\n",
    "### Section 1 - Basic Checking (Rows & Column count, Columns type, Missing data, Duplicated data)"
   ]
  },
  {
   "cell_type": "markdown",
   "id": "bec3b5a4-cc1f-4508-b204-eb0543201d1e",
   "metadata": {},
   "source": [
    "To get a better understanding of all the variables in the data. I will preview the data to gain the first sight. <br>\n",
    "It's important for me to check the columns type so I can apply the appropriate feature engineering to the column. <br>\n",
    "Last but not least, missing & duplicated data are important to check as well."
   ]
  },
  {
   "cell_type": "code",
   "execution_count": 3,
   "id": "568d1488-84a6-4827-bd3e-9cfc916d4dd0",
   "metadata": {},
   "outputs": [
    {
     "data": {
      "text/html": [
       "<div>\n",
       "<style scoped>\n",
       "    .dataframe tbody tr th:only-of-type {\n",
       "        vertical-align: middle;\n",
       "    }\n",
       "\n",
       "    .dataframe tbody tr th {\n",
       "        vertical-align: top;\n",
       "    }\n",
       "\n",
       "    .dataframe thead th {\n",
       "        text-align: right;\n",
       "    }\n",
       "</style>\n",
       "<table border=\"1\" class=\"dataframe\">\n",
       "  <thead>\n",
       "    <tr style=\"text-align: right;\">\n",
       "      <th></th>\n",
       "      <th>ID</th>\n",
       "      <th>Customer_ID</th>\n",
       "      <th>Month</th>\n",
       "      <th>Name</th>\n",
       "      <th>Age</th>\n",
       "      <th>SSN</th>\n",
       "      <th>Occupation</th>\n",
       "      <th>Annual_Income</th>\n",
       "      <th>Monthly_Inhand_Salary</th>\n",
       "      <th>Num_Bank_Accounts</th>\n",
       "      <th>Num_Credit_Card</th>\n",
       "      <th>Interest_Rate</th>\n",
       "      <th>Num_of_Loan</th>\n",
       "      <th>Type_of_Loan</th>\n",
       "      <th>Delay_from_due_date</th>\n",
       "      <th>Num_of_Delayed_Payment</th>\n",
       "      <th>Changed_Credit_Limit</th>\n",
       "      <th>Num_Credit_Inquiries</th>\n",
       "      <th>Credit_Mix</th>\n",
       "      <th>Outstanding_Debt</th>\n",
       "      <th>Credit_Utilization_Ratio</th>\n",
       "      <th>Credit_History_Age</th>\n",
       "      <th>Payment_of_Min_Amount</th>\n",
       "      <th>Total_EMI_per_month</th>\n",
       "      <th>Amount_invested_monthly</th>\n",
       "      <th>Payment_Behaviour</th>\n",
       "      <th>Monthly_Balance</th>\n",
       "      <th>Credit_Score</th>\n",
       "    </tr>\n",
       "  </thead>\n",
       "  <tbody>\n",
       "    <tr>\n",
       "      <th>0</th>\n",
       "      <td>0x1602</td>\n",
       "      <td>CUS_0xd40</td>\n",
       "      <td>January</td>\n",
       "      <td>Aaron Maashoh</td>\n",
       "      <td>23</td>\n",
       "      <td>821-00-0265</td>\n",
       "      <td>Scientist</td>\n",
       "      <td>19114.12</td>\n",
       "      <td>1824.843333</td>\n",
       "      <td>3</td>\n",
       "      <td>4</td>\n",
       "      <td>3</td>\n",
       "      <td>4</td>\n",
       "      <td>Auto Loan, Credit-Builder Loan, Personal Loan,...</td>\n",
       "      <td>3</td>\n",
       "      <td>7</td>\n",
       "      <td>11.27</td>\n",
       "      <td>4.0</td>\n",
       "      <td>_</td>\n",
       "      <td>809.98</td>\n",
       "      <td>26.82262</td>\n",
       "      <td>22 Years and 1 Months</td>\n",
       "      <td>No</td>\n",
       "      <td>49.574949</td>\n",
       "      <td>80.41529543900253</td>\n",
       "      <td>High_spent_Small_value_payments</td>\n",
       "      <td>312.49408867943663</td>\n",
       "      <td>Good</td>\n",
       "    </tr>\n",
       "  </tbody>\n",
       "</table>\n",
       "</div>"
      ],
      "text/plain": [
       "       ID Customer_ID    Month           Name Age          SSN Occupation Annual_Income  Monthly_Inhand_Salary  Num_Bank_Accounts  Num_Credit_Card  Interest_Rate Num_of_Loan                                       Type_of_Loan  Delay_from_due_date Num_of_Delayed_Payment Changed_Credit_Limit  Num_Credit_Inquiries Credit_Mix Outstanding_Debt  Credit_Utilization_Ratio     Credit_History_Age Payment_of_Min_Amount  Total_EMI_per_month Amount_invested_monthly                Payment_Behaviour     Monthly_Balance Credit_Score\n",
       "0  0x1602   CUS_0xd40  January  Aaron Maashoh  23  821-00-0265  Scientist      19114.12            1824.843333                  3                4              3           4  Auto Loan, Credit-Builder Loan, Personal Loan,...                    3                      7                11.27                   4.0          _           809.98                  26.82262  22 Years and 1 Months                    No            49.574949       80.41529543900253  High_spent_Small_value_payments  312.49408867943663         Good"
      ]
     },
     "execution_count": 3,
     "metadata": {},
     "output_type": "execute_result"
    }
   ],
   "source": [
    "df.head(1)"
   ]
  },
  {
   "cell_type": "code",
   "execution_count": 4,
   "id": "f54fd658-d10c-4219-8af9-7a154e632e0f",
   "metadata": {},
   "outputs": [
    {
     "name": "stdout",
     "output_type": "stream",
     "text": [
      "Rows: 100000, Columns: 28\n"
     ]
    }
   ],
   "source": [
    "print(f\"Rows: {df.shape[0]}, Columns: {df.shape[1]}\")"
   ]
  },
  {
   "cell_type": "code",
   "execution_count": 5,
   "id": "e0d548c7-c37c-40a2-a85d-6b3d5752c77d",
   "metadata": {
    "tags": []
   },
   "outputs": [
    {
     "data": {
      "text/plain": [
       "ID                           object\n",
       "Customer_ID                  object\n",
       "Month                        object\n",
       "Name                         object\n",
       "Age                          object\n",
       "SSN                          object\n",
       "Occupation                   object\n",
       "Annual_Income                object\n",
       "Monthly_Inhand_Salary       float64\n",
       "Num_Bank_Accounts             int64\n",
       "Num_Credit_Card               int64\n",
       "Interest_Rate                 int64\n",
       "Num_of_Loan                  object\n",
       "Type_of_Loan                 object\n",
       "Delay_from_due_date           int64\n",
       "Num_of_Delayed_Payment       object\n",
       "Changed_Credit_Limit         object\n",
       "Num_Credit_Inquiries        float64\n",
       "Credit_Mix                   object\n",
       "Outstanding_Debt             object\n",
       "Credit_Utilization_Ratio    float64\n",
       "Credit_History_Age           object\n",
       "Payment_of_Min_Amount        object\n",
       "Total_EMI_per_month         float64\n",
       "Amount_invested_monthly      object\n",
       "Payment_Behaviour            object\n",
       "Monthly_Balance              object\n",
       "Credit_Score                 object\n",
       "dtype: object"
      ]
     },
     "execution_count": 5,
     "metadata": {},
     "output_type": "execute_result"
    }
   ],
   "source": [
    "df.dtypes"
   ]
  },
  {
   "cell_type": "code",
   "execution_count": 6,
   "id": "37e971a7-5365-4a0b-9b8a-337a7f043a50",
   "metadata": {},
   "outputs": [
    {
     "name": "stdout",
     "output_type": "stream",
     "text": [
      "Number of Columns (String): 20\n",
      "Number of Columns (Float): 4\n",
      "Number of Columns (Integer): 4\n"
     ]
    }
   ],
   "source": [
    "object_list = []\n",
    "float_list = []\n",
    "int_list = []\n",
    "\n",
    "for i in df.columns:\n",
    "    if df[i].dtype == 'object':\n",
    "        object_list.append(i)\n",
    "    elif df[i].dtype == 'float64':\n",
    "        float_list.append(i)\n",
    "    elif df[i].dtype == 'int64':\n",
    "        int_list.append(i)\n",
    "        \n",
    "print(f\"Number of Columns (String): {len(object_list)}\")\n",
    "print(f\"Number of Columns (Float): {len(float_list)}\")\n",
    "print(f\"Number of Columns (Integer): {len(int_list)}\")"
   ]
  },
  {
   "cell_type": "code",
   "execution_count": 7,
   "id": "c421f705-fd2e-4ef3-9433-2bfaf417ba76",
   "metadata": {},
   "outputs": [
    {
     "data": {
      "text/html": [
       "<div>\n",
       "<style scoped>\n",
       "    .dataframe tbody tr th:only-of-type {\n",
       "        vertical-align: middle;\n",
       "    }\n",
       "\n",
       "    .dataframe tbody tr th {\n",
       "        vertical-align: top;\n",
       "    }\n",
       "\n",
       "    .dataframe thead th {\n",
       "        text-align: right;\n",
       "    }\n",
       "</style>\n",
       "<table border=\"1\" class=\"dataframe\">\n",
       "  <thead>\n",
       "    <tr style=\"text-align: right;\">\n",
       "      <th></th>\n",
       "      <th>Monthly_Inhand_Salary</th>\n",
       "      <th>Num_Bank_Accounts</th>\n",
       "      <th>Num_Credit_Card</th>\n",
       "      <th>Interest_Rate</th>\n",
       "      <th>Delay_from_due_date</th>\n",
       "      <th>Num_Credit_Inquiries</th>\n",
       "      <th>Credit_Utilization_Ratio</th>\n",
       "      <th>Total_EMI_per_month</th>\n",
       "    </tr>\n",
       "  </thead>\n",
       "  <tbody>\n",
       "    <tr>\n",
       "      <th>count</th>\n",
       "      <td>84998.000000</td>\n",
       "      <td>100000.000000</td>\n",
       "      <td>100000.00000</td>\n",
       "      <td>100000.000000</td>\n",
       "      <td>100000.000000</td>\n",
       "      <td>98035.000000</td>\n",
       "      <td>100000.000000</td>\n",
       "      <td>100000.000000</td>\n",
       "    </tr>\n",
       "    <tr>\n",
       "      <th>mean</th>\n",
       "      <td>4194.170850</td>\n",
       "      <td>17.091280</td>\n",
       "      <td>22.47443</td>\n",
       "      <td>72.466040</td>\n",
       "      <td>21.068780</td>\n",
       "      <td>27.754251</td>\n",
       "      <td>32.285173</td>\n",
       "      <td>1403.118217</td>\n",
       "    </tr>\n",
       "    <tr>\n",
       "      <th>std</th>\n",
       "      <td>3183.686167</td>\n",
       "      <td>117.404834</td>\n",
       "      <td>129.05741</td>\n",
       "      <td>466.422621</td>\n",
       "      <td>14.860104</td>\n",
       "      <td>193.177339</td>\n",
       "      <td>5.116875</td>\n",
       "      <td>8306.041270</td>\n",
       "    </tr>\n",
       "    <tr>\n",
       "      <th>min</th>\n",
       "      <td>303.645417</td>\n",
       "      <td>-1.000000</td>\n",
       "      <td>0.00000</td>\n",
       "      <td>1.000000</td>\n",
       "      <td>-5.000000</td>\n",
       "      <td>0.000000</td>\n",
       "      <td>20.000000</td>\n",
       "      <td>0.000000</td>\n",
       "    </tr>\n",
       "    <tr>\n",
       "      <th>25%</th>\n",
       "      <td>1625.568229</td>\n",
       "      <td>3.000000</td>\n",
       "      <td>4.00000</td>\n",
       "      <td>8.000000</td>\n",
       "      <td>10.000000</td>\n",
       "      <td>3.000000</td>\n",
       "      <td>28.052567</td>\n",
       "      <td>30.306660</td>\n",
       "    </tr>\n",
       "    <tr>\n",
       "      <th>50%</th>\n",
       "      <td>3093.745000</td>\n",
       "      <td>6.000000</td>\n",
       "      <td>5.00000</td>\n",
       "      <td>13.000000</td>\n",
       "      <td>18.000000</td>\n",
       "      <td>6.000000</td>\n",
       "      <td>32.305784</td>\n",
       "      <td>69.249473</td>\n",
       "    </tr>\n",
       "    <tr>\n",
       "      <th>75%</th>\n",
       "      <td>5957.448333</td>\n",
       "      <td>7.000000</td>\n",
       "      <td>7.00000</td>\n",
       "      <td>20.000000</td>\n",
       "      <td>28.000000</td>\n",
       "      <td>9.000000</td>\n",
       "      <td>36.496663</td>\n",
       "      <td>161.224249</td>\n",
       "    </tr>\n",
       "    <tr>\n",
       "      <th>max</th>\n",
       "      <td>15204.633333</td>\n",
       "      <td>1798.000000</td>\n",
       "      <td>1499.00000</td>\n",
       "      <td>5797.000000</td>\n",
       "      <td>67.000000</td>\n",
       "      <td>2597.000000</td>\n",
       "      <td>50.000000</td>\n",
       "      <td>82331.000000</td>\n",
       "    </tr>\n",
       "  </tbody>\n",
       "</table>\n",
       "</div>"
      ],
      "text/plain": [
       "       Monthly_Inhand_Salary  Num_Bank_Accounts  Num_Credit_Card  Interest_Rate  Delay_from_due_date  Num_Credit_Inquiries  Credit_Utilization_Ratio  Total_EMI_per_month\n",
       "count           84998.000000      100000.000000     100000.00000  100000.000000        100000.000000          98035.000000             100000.000000        100000.000000\n",
       "mean             4194.170850          17.091280         22.47443      72.466040            21.068780             27.754251                 32.285173          1403.118217\n",
       "std              3183.686167         117.404834        129.05741     466.422621            14.860104            193.177339                  5.116875          8306.041270\n",
       "min               303.645417          -1.000000          0.00000       1.000000            -5.000000              0.000000                 20.000000             0.000000\n",
       "25%              1625.568229           3.000000          4.00000       8.000000            10.000000              3.000000                 28.052567            30.306660\n",
       "50%              3093.745000           6.000000          5.00000      13.000000            18.000000              6.000000                 32.305784            69.249473\n",
       "75%              5957.448333           7.000000          7.00000      20.000000            28.000000              9.000000                 36.496663           161.224249\n",
       "max             15204.633333        1798.000000       1499.00000    5797.000000            67.000000           2597.000000                 50.000000         82331.000000"
      ]
     },
     "execution_count": 7,
     "metadata": {},
     "output_type": "execute_result"
    }
   ],
   "source": [
    "df.describe()"
   ]
  },
  {
   "cell_type": "code",
   "execution_count": 8,
   "id": "80a821f4-43ff-498d-b03d-bf4e71e64a31",
   "metadata": {
    "tags": []
   },
   "outputs": [
    {
     "data": {
      "text/html": [
       "<div>\n",
       "<style scoped>\n",
       "    .dataframe tbody tr th:only-of-type {\n",
       "        vertical-align: middle;\n",
       "    }\n",
       "\n",
       "    .dataframe tbody tr th {\n",
       "        vertical-align: top;\n",
       "    }\n",
       "\n",
       "    .dataframe thead th {\n",
       "        text-align: right;\n",
       "    }\n",
       "</style>\n",
       "<table border=\"1\" class=\"dataframe\">\n",
       "  <thead>\n",
       "    <tr style=\"text-align: right;\">\n",
       "      <th></th>\n",
       "      <th>ID</th>\n",
       "      <th>Customer_ID</th>\n",
       "      <th>Month</th>\n",
       "      <th>Name</th>\n",
       "      <th>Age</th>\n",
       "      <th>SSN</th>\n",
       "      <th>Occupation</th>\n",
       "      <th>Annual_Income</th>\n",
       "      <th>Num_of_Loan</th>\n",
       "      <th>Type_of_Loan</th>\n",
       "      <th>Num_of_Delayed_Payment</th>\n",
       "      <th>Changed_Credit_Limit</th>\n",
       "      <th>Credit_Mix</th>\n",
       "      <th>Outstanding_Debt</th>\n",
       "      <th>Credit_History_Age</th>\n",
       "      <th>Payment_of_Min_Amount</th>\n",
       "      <th>Amount_invested_monthly</th>\n",
       "      <th>Payment_Behaviour</th>\n",
       "      <th>Monthly_Balance</th>\n",
       "      <th>Credit_Score</th>\n",
       "    </tr>\n",
       "  </thead>\n",
       "  <tbody>\n",
       "    <tr>\n",
       "      <th>count</th>\n",
       "      <td>100000</td>\n",
       "      <td>100000</td>\n",
       "      <td>100000</td>\n",
       "      <td>90015</td>\n",
       "      <td>100000</td>\n",
       "      <td>100000</td>\n",
       "      <td>100000</td>\n",
       "      <td>100000</td>\n",
       "      <td>100000</td>\n",
       "      <td>88592</td>\n",
       "      <td>92998</td>\n",
       "      <td>100000</td>\n",
       "      <td>100000</td>\n",
       "      <td>100000</td>\n",
       "      <td>90970</td>\n",
       "      <td>100000</td>\n",
       "      <td>95521</td>\n",
       "      <td>100000</td>\n",
       "      <td>98800</td>\n",
       "      <td>100000</td>\n",
       "    </tr>\n",
       "    <tr>\n",
       "      <th>unique</th>\n",
       "      <td>100000</td>\n",
       "      <td>12500</td>\n",
       "      <td>8</td>\n",
       "      <td>10139</td>\n",
       "      <td>1788</td>\n",
       "      <td>12501</td>\n",
       "      <td>16</td>\n",
       "      <td>18940</td>\n",
       "      <td>434</td>\n",
       "      <td>6260</td>\n",
       "      <td>749</td>\n",
       "      <td>4384</td>\n",
       "      <td>4</td>\n",
       "      <td>13178</td>\n",
       "      <td>404</td>\n",
       "      <td>3</td>\n",
       "      <td>91049</td>\n",
       "      <td>7</td>\n",
       "      <td>98792</td>\n",
       "      <td>3</td>\n",
       "    </tr>\n",
       "    <tr>\n",
       "      <th>top</th>\n",
       "      <td>0x1602</td>\n",
       "      <td>CUS_0xd40</td>\n",
       "      <td>January</td>\n",
       "      <td>Langep</td>\n",
       "      <td>38</td>\n",
       "      <td>#F%$D@*&amp;8</td>\n",
       "      <td>_______</td>\n",
       "      <td>36585.12</td>\n",
       "      <td>3</td>\n",
       "      <td>Not Specified</td>\n",
       "      <td>19</td>\n",
       "      <td>_</td>\n",
       "      <td>Standard</td>\n",
       "      <td>1360.45</td>\n",
       "      <td>15 Years and 11 Months</td>\n",
       "      <td>Yes</td>\n",
       "      <td>__10000__</td>\n",
       "      <td>Low_spent_Small_value_payments</td>\n",
       "      <td>__-333333333333333333333333333__</td>\n",
       "      <td>Standard</td>\n",
       "    </tr>\n",
       "    <tr>\n",
       "      <th>freq</th>\n",
       "      <td>1</td>\n",
       "      <td>8</td>\n",
       "      <td>12500</td>\n",
       "      <td>44</td>\n",
       "      <td>2833</td>\n",
       "      <td>5572</td>\n",
       "      <td>7062</td>\n",
       "      <td>16</td>\n",
       "      <td>14386</td>\n",
       "      <td>1408</td>\n",
       "      <td>5327</td>\n",
       "      <td>2091</td>\n",
       "      <td>36479</td>\n",
       "      <td>24</td>\n",
       "      <td>446</td>\n",
       "      <td>52326</td>\n",
       "      <td>4305</td>\n",
       "      <td>25513</td>\n",
       "      <td>9</td>\n",
       "      <td>53174</td>\n",
       "    </tr>\n",
       "  </tbody>\n",
       "</table>\n",
       "</div>"
      ],
      "text/plain": [
       "            ID Customer_ID    Month    Name     Age        SSN Occupation Annual_Income Num_of_Loan   Type_of_Loan Num_of_Delayed_Payment Changed_Credit_Limit Credit_Mix Outstanding_Debt      Credit_History_Age Payment_of_Min_Amount Amount_invested_monthly               Payment_Behaviour                   Monthly_Balance Credit_Score\n",
       "count   100000      100000   100000   90015  100000     100000     100000        100000      100000          88592                  92998               100000     100000           100000                   90970                100000                   95521                          100000                             98800       100000\n",
       "unique  100000       12500        8   10139    1788      12501         16         18940         434           6260                    749                 4384          4            13178                     404                     3                   91049                               7                             98792            3\n",
       "top     0x1602   CUS_0xd40  January  Langep      38  #F%$D@*&8    _______      36585.12           3  Not Specified                     19                    _   Standard          1360.45  15 Years and 11 Months                   Yes               __10000__  Low_spent_Small_value_payments  __-333333333333333333333333333__     Standard\n",
       "freq         1           8    12500      44    2833       5572       7062            16       14386           1408                   5327                 2091      36479               24                     446                 52326                    4305                           25513                                 9        53174"
      ]
     },
     "execution_count": 8,
     "metadata": {},
     "output_type": "execute_result"
    }
   ],
   "source": [
    "df.describe(include = 'O')"
   ]
  },
  {
   "cell_type": "code",
   "execution_count": 9,
   "id": "4bb79531-7833-4910-8076-7ee1d344aec8",
   "metadata": {},
   "outputs": [
    {
     "data": {
      "text/plain": [
       "ID                              0\n",
       "Customer_ID                     0\n",
       "Month                           0\n",
       "Name                         9985\n",
       "Age                             0\n",
       "SSN                             0\n",
       "Occupation                      0\n",
       "Annual_Income                   0\n",
       "Monthly_Inhand_Salary       15002\n",
       "Num_Bank_Accounts               0\n",
       "Num_Credit_Card                 0\n",
       "Interest_Rate                   0\n",
       "Num_of_Loan                     0\n",
       "Type_of_Loan                11408\n",
       "Delay_from_due_date             0\n",
       "Num_of_Delayed_Payment       7002\n",
       "Changed_Credit_Limit            0\n",
       "Num_Credit_Inquiries         1965\n",
       "Credit_Mix                      0\n",
       "Outstanding_Debt                0\n",
       "Credit_Utilization_Ratio        0\n",
       "Credit_History_Age           9030\n",
       "Payment_of_Min_Amount           0\n",
       "Total_EMI_per_month             0\n",
       "Amount_invested_monthly      4479\n",
       "Payment_Behaviour               0\n",
       "Monthly_Balance              1200\n",
       "Credit_Score                    0\n",
       "dtype: int64"
      ]
     },
     "execution_count": 9,
     "metadata": {},
     "output_type": "execute_result"
    }
   ],
   "source": [
    "df.isnull().sum()"
   ]
  },
  {
   "cell_type": "code",
   "execution_count": 10,
   "id": "6e217bbb-3daf-4d34-9562-855ad5c94593",
   "metadata": {
    "tags": []
   },
   "outputs": [
    {
     "data": {
      "text/html": [
       "<div>\n",
       "<style scoped>\n",
       "    .dataframe tbody tr th:only-of-type {\n",
       "        vertical-align: middle;\n",
       "    }\n",
       "\n",
       "    .dataframe tbody tr th {\n",
       "        vertical-align: top;\n",
       "    }\n",
       "\n",
       "    .dataframe thead th {\n",
       "        text-align: right;\n",
       "    }\n",
       "</style>\n",
       "<table border=\"1\" class=\"dataframe\">\n",
       "  <thead>\n",
       "    <tr style=\"text-align: right;\">\n",
       "      <th></th>\n",
       "      <th>ID</th>\n",
       "      <th>Customer_ID</th>\n",
       "      <th>Month</th>\n",
       "      <th>Name</th>\n",
       "      <th>Age</th>\n",
       "      <th>SSN</th>\n",
       "      <th>Occupation</th>\n",
       "      <th>Annual_Income</th>\n",
       "      <th>Monthly_Inhand_Salary</th>\n",
       "      <th>Num_Bank_Accounts</th>\n",
       "      <th>Num_Credit_Card</th>\n",
       "      <th>Interest_Rate</th>\n",
       "      <th>Num_of_Loan</th>\n",
       "      <th>Type_of_Loan</th>\n",
       "      <th>Delay_from_due_date</th>\n",
       "      <th>Num_of_Delayed_Payment</th>\n",
       "      <th>Changed_Credit_Limit</th>\n",
       "      <th>Num_Credit_Inquiries</th>\n",
       "      <th>Credit_Mix</th>\n",
       "      <th>Outstanding_Debt</th>\n",
       "      <th>Credit_Utilization_Ratio</th>\n",
       "      <th>Credit_History_Age</th>\n",
       "      <th>Payment_of_Min_Amount</th>\n",
       "      <th>Total_EMI_per_month</th>\n",
       "      <th>Amount_invested_monthly</th>\n",
       "      <th>Payment_Behaviour</th>\n",
       "      <th>Monthly_Balance</th>\n",
       "      <th>Credit_Score</th>\n",
       "    </tr>\n",
       "  </thead>\n",
       "  <tbody>\n",
       "  </tbody>\n",
       "</table>\n",
       "</div>"
      ],
      "text/plain": [
       "Empty DataFrame\n",
       "Columns: [ID, Customer_ID, Month, Name, Age, SSN, Occupation, Annual_Income, Monthly_Inhand_Salary, Num_Bank_Accounts, Num_Credit_Card, Interest_Rate, Num_of_Loan, Type_of_Loan, Delay_from_due_date, Num_of_Delayed_Payment, Changed_Credit_Limit, Num_Credit_Inquiries, Credit_Mix, Outstanding_Debt, Credit_Utilization_Ratio, Credit_History_Age, Payment_of_Min_Amount, Total_EMI_per_month, Amount_invested_monthly, Payment_Behaviour, Monthly_Balance, Credit_Score]\n",
       "Index: []"
      ]
     },
     "execution_count": 10,
     "metadata": {},
     "output_type": "execute_result"
    }
   ],
   "source": [
    "df[df.duplicated()]"
   ]
  },
  {
   "cell_type": "markdown",
   "id": "44685958-caf1-42a6-9041-ea5fa6d3db57",
   "metadata": {},
   "source": [
    "### Observation:\n",
    "\n",
    "1. There's no duplicated rows data inside the dataset.<br>\n",
    "2. There are 8 columns have the null data. Which are **Name, Monthly_Inhand_Salary, Type_of_Loan, Num_of_Delayed_Payment, Num_Credit_Inquiries, Credit_History_AGE, Amount_invested_monthly, Monthly_Balance**. But we will analyse how missing value impact the dataset.\n",
    "3. There are many *numeric* (float/int) columns are **object** types column in the dataset. It's necessary to convert the data type in next section.\n",
    "4. **Occupation** shows that 7062 records are dont show their occupation in the dataset.\n",
    "5. **Type of Loan** have nearly 6k different types of loan.\n",
    "6. There are 8 columns contain the missing value, we will handle the missing value in feature engineering.\n",
    "7. "
   ]
  },
  {
   "cell_type": "markdown",
   "id": "954d1f4d-e9af-49fc-a617-3286978e7cd2",
   "metadata": {},
   "source": [
    "<a id = 'ch2'></a>\n",
    "\n",
    "### Section 2 - Data Analysis"
   ]
  },
  {
   "cell_type": "markdown",
   "id": "9a9a390f-1c67-42ef-bfea-0d7e7c7303ff",
   "metadata": {},
   "source": [
    "In this section, we will analyse the dataset to gain the insight."
   ]
  },
  {
   "cell_type": "code",
   "execution_count": 11,
   "id": "6dfb844c-1e26-4b02-913a-33547866589b",
   "metadata": {},
   "outputs": [
    {
     "name": "stdout",
     "output_type": "stream",
     "text": [
      "Value: Standard, Count: 53174, Percentage(%): 53.17%\n",
      "Value: Poor, Count: 28998, Percentage(%): 29.0%\n",
      "Value: Good, Count: 17828, Percentage(%): 17.83%\n"
     ]
    }
   ],
   "source": [
    "for i in range(0,3):\n",
    "    index = df['Credit_Score'].value_counts().index[i]\n",
    "    value_count = df['Credit_Score'].value_counts()[i]\n",
    "    target_proportion = (value_count / 100000) * 100\n",
    "    print(f\"Value: {index}, Count: {value_count}, Percentage(%): {np.round(target_proportion,2)}%\")"
   ]
  },
  {
   "cell_type": "markdown",
   "id": "2a20b415-1cea-4b76-89a0-7dde0147640d",
   "metadata": {},
   "source": [
    "1. There are more than half clients have the standard category in credit score.\n",
    "2. Only 17.83% clients gets the good category among all the clients.\n",
    "3.  1/3 clients have the poor category\n",
    "4. This is the multiclass classification task."
   ]
  },
  {
   "cell_type": "code",
   "execution_count": 12,
   "id": "ff084ad3-1d2f-4175-9972-bc805ef28fd6",
   "metadata": {
    "tags": []
   },
   "outputs": [
    {
     "data": {
      "text/html": [
       "<div>\n",
       "<style scoped>\n",
       "    .dataframe tbody tr th:only-of-type {\n",
       "        vertical-align: middle;\n",
       "    }\n",
       "\n",
       "    .dataframe tbody tr th {\n",
       "        vertical-align: top;\n",
       "    }\n",
       "\n",
       "    .dataframe thead th {\n",
       "        text-align: right;\n",
       "    }\n",
       "</style>\n",
       "<table border=\"1\" class=\"dataframe\">\n",
       "  <thead>\n",
       "    <tr style=\"text-align: right;\">\n",
       "      <th></th>\n",
       "      <th>ID</th>\n",
       "      <th>Customer_ID</th>\n",
       "      <th>Month</th>\n",
       "      <th>Name</th>\n",
       "      <th>Age</th>\n",
       "      <th>SSN</th>\n",
       "      <th>Occupation</th>\n",
       "      <th>Annual_Income</th>\n",
       "      <th>Monthly_Inhand_Salary</th>\n",
       "      <th>Num_Bank_Accounts</th>\n",
       "      <th>Num_Credit_Card</th>\n",
       "      <th>Interest_Rate</th>\n",
       "      <th>Num_of_Loan</th>\n",
       "      <th>Type_of_Loan</th>\n",
       "      <th>Delay_from_due_date</th>\n",
       "      <th>Num_of_Delayed_Payment</th>\n",
       "      <th>Changed_Credit_Limit</th>\n",
       "      <th>Num_Credit_Inquiries</th>\n",
       "      <th>Credit_Mix</th>\n",
       "      <th>Outstanding_Debt</th>\n",
       "      <th>Credit_Utilization_Ratio</th>\n",
       "      <th>Credit_History_Age</th>\n",
       "      <th>Payment_of_Min_Amount</th>\n",
       "      <th>Total_EMI_per_month</th>\n",
       "      <th>Amount_invested_monthly</th>\n",
       "      <th>Payment_Behaviour</th>\n",
       "      <th>Monthly_Balance</th>\n",
       "      <th>Credit_Score</th>\n",
       "    </tr>\n",
       "  </thead>\n",
       "  <tbody>\n",
       "    <tr>\n",
       "      <th>0</th>\n",
       "      <td>0x1602</td>\n",
       "      <td>CUS_0xd40</td>\n",
       "      <td>January</td>\n",
       "      <td>Aaron Maashoh</td>\n",
       "      <td>23</td>\n",
       "      <td>821-00-0265</td>\n",
       "      <td>Scientist</td>\n",
       "      <td>19114.12</td>\n",
       "      <td>1824.843333</td>\n",
       "      <td>3</td>\n",
       "      <td>4</td>\n",
       "      <td>3</td>\n",
       "      <td>4</td>\n",
       "      <td>Auto Loan, Credit-Builder Loan, Personal Loan,...</td>\n",
       "      <td>3</td>\n",
       "      <td>7</td>\n",
       "      <td>11.27</td>\n",
       "      <td>4.0</td>\n",
       "      <td>_</td>\n",
       "      <td>809.98</td>\n",
       "      <td>26.82262</td>\n",
       "      <td>22 Years and 1 Months</td>\n",
       "      <td>No</td>\n",
       "      <td>49.574949</td>\n",
       "      <td>80.41529543900253</td>\n",
       "      <td>High_spent_Small_value_payments</td>\n",
       "      <td>312.49408867943663</td>\n",
       "      <td>Good</td>\n",
       "    </tr>\n",
       "    <tr>\n",
       "      <th>1</th>\n",
       "      <td>0x1603</td>\n",
       "      <td>CUS_0xd40</td>\n",
       "      <td>February</td>\n",
       "      <td>Aaron Maashoh</td>\n",
       "      <td>23</td>\n",
       "      <td>821-00-0265</td>\n",
       "      <td>Scientist</td>\n",
       "      <td>19114.12</td>\n",
       "      <td>NaN</td>\n",
       "      <td>3</td>\n",
       "      <td>4</td>\n",
       "      <td>3</td>\n",
       "      <td>4</td>\n",
       "      <td>Auto Loan, Credit-Builder Loan, Personal Loan,...</td>\n",
       "      <td>-1</td>\n",
       "      <td>NaN</td>\n",
       "      <td>11.27</td>\n",
       "      <td>4.0</td>\n",
       "      <td>Good</td>\n",
       "      <td>809.98</td>\n",
       "      <td>31.94496</td>\n",
       "      <td>NaN</td>\n",
       "      <td>No</td>\n",
       "      <td>49.574949</td>\n",
       "      <td>118.28022162236736</td>\n",
       "      <td>Low_spent_Large_value_payments</td>\n",
       "      <td>284.62916249607184</td>\n",
       "      <td>Good</td>\n",
       "    </tr>\n",
       "  </tbody>\n",
       "</table>\n",
       "</div>"
      ],
      "text/plain": [
       "       ID Customer_ID     Month           Name Age          SSN Occupation Annual_Income  Monthly_Inhand_Salary  Num_Bank_Accounts  Num_Credit_Card  Interest_Rate Num_of_Loan                                       Type_of_Loan  Delay_from_due_date Num_of_Delayed_Payment Changed_Credit_Limit  Num_Credit_Inquiries Credit_Mix Outstanding_Debt  Credit_Utilization_Ratio     Credit_History_Age Payment_of_Min_Amount  Total_EMI_per_month Amount_invested_monthly                Payment_Behaviour     Monthly_Balance Credit_Score\n",
       "0  0x1602   CUS_0xd40   January  Aaron Maashoh  23  821-00-0265  Scientist      19114.12            1824.843333                  3                4              3           4  Auto Loan, Credit-Builder Loan, Personal Loan,...                    3                      7                11.27                   4.0          _           809.98                  26.82262  22 Years and 1 Months                    No            49.574949       80.41529543900253  High_spent_Small_value_payments  312.49408867943663         Good\n",
       "1  0x1603   CUS_0xd40  February  Aaron Maashoh  23  821-00-0265  Scientist      19114.12                    NaN                  3                4              3           4  Auto Loan, Credit-Builder Loan, Personal Loan,...                   -1                    NaN                11.27                   4.0       Good           809.98                  31.94496                    NaN                    No            49.574949      118.28022162236736   Low_spent_Large_value_payments  284.62916249607184         Good"
      ]
     },
     "execution_count": 12,
     "metadata": {},
     "output_type": "execute_result"
    }
   ],
   "source": [
    "df.head(2)"
   ]
  },
  {
   "cell_type": "markdown",
   "id": "343ee301-c9a6-46df-8f32-da14f22acac9",
   "metadata": {},
   "source": [
    "I observed that this is the dataset about the credited-related info related to the clients in the bank. <br>\n",
    "There are 2 perspective can observed, income wise & financial product (credit card, loan) wise. <br>\n",
    "1. Salary: represented how many income amount are credited into the bank. And the number of bank accounts the client have.\n",
    "2. Financial product: It shows that how many financial products (credit card, loan) the clients have in the bank. And it shows the details about the credit history. Such as the number of delayed payment and outstanding debt."
   ]
  },
  {
   "cell_type": "code",
   "execution_count": 13,
   "id": "1282844f-3ba6-43b0-a32a-81e93d833067",
   "metadata": {
    "tags": []
   },
   "outputs": [
    {
     "data": {
      "image/png": "[encoded data removed]",
      "text/plain": [
       "<Figure size 1080x1080 with 2 Axes>"
      ]
     },
     "metadata": {
      "needs_background": "light"
     },
     "output_type": "display_data"
    }
   ],
   "source": [
    "plt.figure(figsize = (15,15))\n",
    "sns.heatmap(df.corr(), annot = True)\n",
    "plt.show()"
   ]
  },
  {
   "cell_type": "markdown",
   "id": "ce590938-2a0d-450f-93e6-ee48733380f8",
   "metadata": {},
   "source": [
    "I am using the heatmap graph to check the correlation between the numerical columns. <br>\n",
    "Please take note that this is not the complete heatmap result, some columns are string type but with numerical values. <br>\n",
    "I will check again the correlation after convert the columns into correct data type. <br><br>\n",
    "\n",
    "1. Monthly_Inhand_Salary column has the positive correlation with Monthly Balance column. Because monthly balance is reflected by the salary credited into account.\n",
    "2. Delay_from_due_date column has the negative correlation with Monthly Balance column. The more delay days from due date The lesser monthly balance.\n",
    "3. Delay_from_due_date column has 57% correlation rate with Outstanding Debt column. There are some relationship between these 2 columns.\n",
    "4. "
   ]
  },
  {
   "cell_type": "code",
   "execution_count": null,
   "id": "8c021bb6-80dc-48e2-b74a-34943d35459a",
   "metadata": {},
   "outputs": [],
   "source": []
  },
  {
   "cell_type": "markdown",
   "id": "b0a9509f-ac3c-4edd-8724-ed9bb99ab9db",
   "metadata": {},
   "source": [
    "##### 1. How does the data looks like for credit score == Good?"
   ]
  },
  {
   "cell_type": "code",
   "execution_count": 14,
   "id": "998d449f-cd09-451a-92b0-e8083810258d",
   "metadata": {},
   "outputs": [
    {
     "data": {
      "text/html": [
       "<div>\n",
       "<style scoped>\n",
       "    .dataframe tbody tr th:only-of-type {\n",
       "        vertical-align: middle;\n",
       "    }\n",
       "\n",
       "    .dataframe tbody tr th {\n",
       "        vertical-align: top;\n",
       "    }\n",
       "\n",
       "    .dataframe thead th {\n",
       "        text-align: right;\n",
       "    }\n",
       "</style>\n",
       "<table border=\"1\" class=\"dataframe\">\n",
       "  <thead>\n",
       "    <tr style=\"text-align: right;\">\n",
       "      <th></th>\n",
       "      <th>ID</th>\n",
       "      <th>Customer_ID</th>\n",
       "      <th>Month</th>\n",
       "      <th>Name</th>\n",
       "      <th>Age</th>\n",
       "      <th>SSN</th>\n",
       "      <th>Occupation</th>\n",
       "      <th>Annual_Income</th>\n",
       "      <th>Monthly_Inhand_Salary</th>\n",
       "      <th>Num_Bank_Accounts</th>\n",
       "      <th>Num_Credit_Card</th>\n",
       "      <th>Interest_Rate</th>\n",
       "      <th>Num_of_Loan</th>\n",
       "      <th>Type_of_Loan</th>\n",
       "      <th>Delay_from_due_date</th>\n",
       "      <th>Num_of_Delayed_Payment</th>\n",
       "      <th>Changed_Credit_Limit</th>\n",
       "      <th>Num_Credit_Inquiries</th>\n",
       "      <th>Credit_Mix</th>\n",
       "      <th>Outstanding_Debt</th>\n",
       "      <th>Credit_Utilization_Ratio</th>\n",
       "      <th>Credit_History_Age</th>\n",
       "      <th>Payment_of_Min_Amount</th>\n",
       "      <th>Total_EMI_per_month</th>\n",
       "      <th>Amount_invested_monthly</th>\n",
       "      <th>Payment_Behaviour</th>\n",
       "      <th>Monthly_Balance</th>\n",
       "      <th>Credit_Score</th>\n",
       "    </tr>\n",
       "  </thead>\n",
       "  <tbody>\n",
       "    <tr>\n",
       "      <th>0</th>\n",
       "      <td>0x1602</td>\n",
       "      <td>CUS_0xd40</td>\n",
       "      <td>January</td>\n",
       "      <td>Aaron Maashoh</td>\n",
       "      <td>23</td>\n",
       "      <td>821-00-0265</td>\n",
       "      <td>Scientist</td>\n",
       "      <td>19114.12</td>\n",
       "      <td>1824.843333</td>\n",
       "      <td>3</td>\n",
       "      <td>4</td>\n",
       "      <td>3</td>\n",
       "      <td>4</td>\n",
       "      <td>Auto Loan, Credit-Builder Loan, Personal Loan,...</td>\n",
       "      <td>3</td>\n",
       "      <td>7</td>\n",
       "      <td>11.27</td>\n",
       "      <td>4.0</td>\n",
       "      <td>_</td>\n",
       "      <td>809.98</td>\n",
       "      <td>26.82262</td>\n",
       "      <td>22 Years and 1 Months</td>\n",
       "      <td>No</td>\n",
       "      <td>49.574949</td>\n",
       "      <td>80.41529543900253</td>\n",
       "      <td>High_spent_Small_value_payments</td>\n",
       "      <td>312.49408867943663</td>\n",
       "      <td>Good</td>\n",
       "    </tr>\n",
       "  </tbody>\n",
       "</table>\n",
       "</div>"
      ],
      "text/plain": [
       "       ID Customer_ID    Month           Name Age          SSN Occupation Annual_Income  Monthly_Inhand_Salary  Num_Bank_Accounts  Num_Credit_Card  Interest_Rate Num_of_Loan                                       Type_of_Loan  Delay_from_due_date Num_of_Delayed_Payment Changed_Credit_Limit  Num_Credit_Inquiries Credit_Mix Outstanding_Debt  Credit_Utilization_Ratio     Credit_History_Age Payment_of_Min_Amount  Total_EMI_per_month Amount_invested_monthly                Payment_Behaviour     Monthly_Balance Credit_Score\n",
       "0  0x1602   CUS_0xd40  January  Aaron Maashoh  23  821-00-0265  Scientist      19114.12            1824.843333                  3                4              3           4  Auto Loan, Credit-Builder Loan, Personal Loan,...                    3                      7                11.27                   4.0          _           809.98                  26.82262  22 Years and 1 Months                    No            49.574949       80.41529543900253  High_spent_Small_value_payments  312.49408867943663         Good"
      ]
     },
     "execution_count": 14,
     "metadata": {},
     "output_type": "execute_result"
    }
   ],
   "source": [
    "df[df['Credit_Score'] == 'Good'].head(1)"
   ]
  },
  {
   "cell_type": "code",
   "execution_count": 15,
   "id": "d16ca512-05a4-468d-8859-167422cced9b",
   "metadata": {},
   "outputs": [
    {
     "data": {
      "text/plain": [
       "(array([10679.,  6189.,   561.,   126.,    50.,    46.,    45.,    44.,\n",
       "           43.,    45.]),\n",
       " array([  0. ,  43.4,  86.8, 130.2, 173.6, 217. , 260.4, 303.8, 347.2,\n",
       "        390.6, 434. ]),\n",
       " <BarContainer object of 10 artists>)"
      ]
     },
     "execution_count": 15,
     "metadata": {},
     "output_type": "execute_result"
    },
    {
     "data": {
      "image/png": "[encoded data removed]",
      "text/plain": [
       "<Figure size 432x288 with 1 Axes>"
      ]
     },
     "metadata": {
      "needs_background": "light"
     },
     "output_type": "display_data"
    }
   ],
   "source": [
    "plt.hist(df[df['Credit_Score'] == 'Good']['Age'])"
   ]
  },
  {
   "cell_type": "code",
   "execution_count": 16,
   "id": "b89245e8-0393-44e0-b15f-4ac2e0d54a60",
   "metadata": {},
   "outputs": [
    {
     "data": {
      "text/plain": [
       "<AxesSubplot:xlabel='Month', ylabel='Monthly_Inhand_Salary'>"
      ]
     },
     "execution_count": 16,
     "metadata": {},
     "output_type": "execute_result"
    },
    {
     "data": {
      "image/png": "[encoded data removed]",
      "text/plain": [
       "<Figure size 720x720 with 1 Axes>"
      ]
     },
     "metadata": {
      "needs_background": "light"
     },
     "output_type": "display_data"
    }
   ],
   "source": [
    "plt.figure(figsize = (10,10))\n",
    "sns.barplot(data = df, x = \"Month\", y = \"Monthly_Inhand_Salary\", hue = \"Credit_Score\")"
   ]
  },
  {
   "cell_type": "code",
   "execution_count": null,
   "id": "d04f1a2e-e6de-49c3-9718-baca40e006a2",
   "metadata": {},
   "outputs": [],
   "source": []
  },
  {
   "cell_type": "code",
   "execution_count": null,
   "id": "ffa4f73e-1166-4b14-83de-7633b6f7ea30",
   "metadata": {},
   "outputs": [],
   "source": []
  },
  {
   "cell_type": "code",
   "execution_count": null,
   "id": "9711e901-3b68-4b2b-80fe-4dac8b2d41e8",
   "metadata": {},
   "outputs": [],
   "source": []
  },
  {
   "cell_type": "markdown",
   "id": "7bf35fd6-7936-4835-b018-fd00c23e363e",
   "metadata": {},
   "source": [
    "<a id = 'ch3'></a>\n",
    "\n",
    "### Section 3 - Data type conversion"
   ]
  },
  {
   "cell_type": "markdown",
   "id": "2089499e-d0cf-43e2-9ce9-6ee1041ebf42",
   "metadata": {},
   "source": [
    "In this section, I will convert below columns from object type to integer type. <br>\n",
    "**Age, Annual_Income, Num_of_Loan, Num_of_Delayed_Payment, Changed_Credit_Limit, Credit_Mix, Outstanding_Debt, Payment_of_Min_Amount, Amount_invested_monthly, Monthly_Balance**<br>\n",
    "It's due to those columns have numeric values but in object type.\n"
   ]
  },
  {
   "cell_type": "code",
   "execution_count": 17,
   "id": "23b8dd3c-f128-43dd-963d-32d92963a8f6",
   "metadata": {},
   "outputs": [],
   "source": [
    "Column_Int_list = ['Age', 'Num_of_Loan', 'Num_of_Delayed_Payment']\n",
    "#Column_Float_list = ['Annual_Income', 'Outstanding_Debt', 'Payment_of_Min_Amount', 'Amount_invested_monthly', 'Monthly_Balance']\n",
    "Column_Float_list = ['Annual_Income', 'Changed_Credit_Limit', 'Outstanding_Debt', 'Amount_invested_monthly']"
   ]
  },
  {
   "cell_type": "code",
   "execution_count": 18,
   "id": "f31331bd-4a8a-448f-b716-949b86d7883f",
   "metadata": {},
   "outputs": [],
   "source": [
    "#df[df['Age'].str.endswith('_')]['Age']\n",
    "#df.iloc[0,:]['Age'][:-1]"
   ]
  },
  {
   "cell_type": "code",
   "execution_count": 19,
   "id": "44a18053-58ce-4d1d-af62-794195ecef4f",
   "metadata": {},
   "outputs": [],
   "source": [
    "def check_front_back_underscore(col: str):\n",
    "    filtered_df = df[df[col].notnull()]\n",
    "    ends_count = filtered_df[filtered_df[col].str.endswith('_')].shape[0]\n",
    "    starts_count = filtered_df[filtered_df[col].str.startswith('_')].shape[0]\n",
    "    both_count = filtered_df[filtered_df[col].str.endswith('_') & filtered_df[col].str.startswith('_')].shape[0]\n",
    "    print(f\"Column: {col}, ends_row_count: {ends_count}, starts_row_count: {starts_count}, starts_end_row_count: {both_count}\")"
   ]
  },
  {
   "cell_type": "code",
   "execution_count": 20,
   "id": "e1696f83-900b-4b4d-be03-f5deb28f7f9b",
   "metadata": {},
   "outputs": [
    {
     "name": "stdout",
     "output_type": "stream",
     "text": [
      "Column: Age, ends_row_count: 4939, starts_row_count: 0, starts_end_row_count: 0\n",
      "Column: Num_of_Loan, ends_row_count: 4785, starts_row_count: 0, starts_end_row_count: 0\n",
      "Column: Num_of_Delayed_Payment, ends_row_count: 2744, starts_row_count: 0, starts_end_row_count: 0\n"
     ]
    }
   ],
   "source": [
    "for i in Column_Int_list:\n",
    "    check_front_back_underscore(i)"
   ]
  },
  {
   "cell_type": "code",
   "execution_count": 21,
   "id": "16a3fe94-f084-44c3-8edd-b484a705fad1",
   "metadata": {},
   "outputs": [
    {
     "name": "stdout",
     "output_type": "stream",
     "text": [
      "Column: Annual_Income, ends_row_count: 6980, starts_row_count: 0, starts_end_row_count: 0\n",
      "Column: Changed_Credit_Limit, ends_row_count: 2091, starts_row_count: 2091, starts_end_row_count: 2091\n",
      "Column: Outstanding_Debt, ends_row_count: 1009, starts_row_count: 0, starts_end_row_count: 0\n",
      "Column: Amount_invested_monthly, ends_row_count: 4305, starts_row_count: 4305, starts_end_row_count: 4305\n"
     ]
    }
   ],
   "source": [
    "for i in Column_Float_list:\n",
    "    check_front_back_underscore(i)"
   ]
  },
  {
   "cell_type": "markdown",
   "id": "d71e334a-483a-433d-8b22-902d49fad525",
   "metadata": {},
   "source": [
    "### Notes:\n",
    "\n",
    "I found that I cant conver the column from object type into integer/float type. <br>\n",
    "It's due to column value consists of string. Hence, I write the function *check_front_back_underscore* to check the string. <br>\n",
    "1. Columns, **Age**, **Num_of_Loan**, **Num_of_Delayed_Payment**, **Annual_Income** & **Outstanding_Debt** have the postfix.\n",
    "2. Columns, **Changed_Credit_Limit**, **Credit_Mix** & **Amount_invested_monthly** consists of \"-\" to represent the null value."
   ]
  },
  {
   "cell_type": "markdown",
   "id": "ec74f8f4-fce2-44bf-970b-741792fbac03",
   "metadata": {},
   "source": [
    "### Notes 2:\n",
    "\n",
    "I found that some columns consists of null values. This is the blocker for me to convert the data type. <br>\n",
    "Hence, I decided to process the null values first before convert the data type.\n",
    "1. Num_of_Delayed_Payment\n",
    "2. Payment_of_Min_Amount\n",
    "3. Amount_invested_monthly"
   ]
  },
  {
   "cell_type": "markdown",
   "id": "ac41e12b-e52f-43f8-a3a0-a92bcb5d3ceb",
   "metadata": {
    "tags": []
   },
   "source": [
    "#### Integer Columns:"
   ]
  },
  {
   "cell_type": "markdown",
   "id": "357ebf3a-c7e3-4763-89ba-903d5f5a4195",
   "metadata": {
    "tags": []
   },
   "source": [
    "###### 1. Age (convert into int type -> filter out x < 0 & x > 100 values)"
   ]
  },
  {
   "cell_type": "code",
   "execution_count": 22,
   "id": "a29801e4-1167-4f40-b887-e36adf9d3419",
   "metadata": {
    "tags": []
   },
   "outputs": [
    {
     "data": {
      "text/html": [
       "<div>\n",
       "<style scoped>\n",
       "    .dataframe tbody tr th:only-of-type {\n",
       "        vertical-align: middle;\n",
       "    }\n",
       "\n",
       "    .dataframe tbody tr th {\n",
       "        vertical-align: top;\n",
       "    }\n",
       "\n",
       "    .dataframe thead th {\n",
       "        text-align: right;\n",
       "    }\n",
       "</style>\n",
       "<table border=\"1\" class=\"dataframe\">\n",
       "  <thead>\n",
       "    <tr style=\"text-align: right;\">\n",
       "      <th></th>\n",
       "      <th>ID</th>\n",
       "      <th>Customer_ID</th>\n",
       "      <th>Month</th>\n",
       "      <th>Name</th>\n",
       "      <th>Age</th>\n",
       "      <th>SSN</th>\n",
       "      <th>Occupation</th>\n",
       "      <th>Annual_Income</th>\n",
       "      <th>Monthly_Inhand_Salary</th>\n",
       "      <th>Num_Bank_Accounts</th>\n",
       "      <th>Num_Credit_Card</th>\n",
       "      <th>Interest_Rate</th>\n",
       "      <th>Num_of_Loan</th>\n",
       "      <th>Type_of_Loan</th>\n",
       "      <th>Delay_from_due_date</th>\n",
       "      <th>Num_of_Delayed_Payment</th>\n",
       "      <th>Changed_Credit_Limit</th>\n",
       "      <th>Num_Credit_Inquiries</th>\n",
       "      <th>Credit_Mix</th>\n",
       "      <th>Outstanding_Debt</th>\n",
       "      <th>Credit_Utilization_Ratio</th>\n",
       "      <th>Credit_History_Age</th>\n",
       "      <th>Payment_of_Min_Amount</th>\n",
       "      <th>Total_EMI_per_month</th>\n",
       "      <th>Amount_invested_monthly</th>\n",
       "      <th>Payment_Behaviour</th>\n",
       "      <th>Monthly_Balance</th>\n",
       "      <th>Credit_Score</th>\n",
       "    </tr>\n",
       "  </thead>\n",
       "  <tbody>\n",
       "  </tbody>\n",
       "</table>\n",
       "</div>"
      ],
      "text/plain": [
       "Empty DataFrame\n",
       "Columns: [ID, Customer_ID, Month, Name, Age, SSN, Occupation, Annual_Income, Monthly_Inhand_Salary, Num_Bank_Accounts, Num_Credit_Card, Interest_Rate, Num_of_Loan, Type_of_Loan, Delay_from_due_date, Num_of_Delayed_Payment, Changed_Credit_Limit, Num_Credit_Inquiries, Credit_Mix, Outstanding_Debt, Credit_Utilization_Ratio, Credit_History_Age, Payment_of_Min_Amount, Total_EMI_per_month, Amount_invested_monthly, Payment_Behaviour, Monthly_Balance, Credit_Score]\n",
       "Index: []"
      ]
     },
     "execution_count": 22,
     "metadata": {},
     "output_type": "execute_result"
    }
   ],
   "source": [
    "#df['Start'] = df['Start'].apply(lambda x:x.rstrip('A'))\n",
    "df['Age'] = df['Age'].apply(lambda x:x.rstrip('_'))\n",
    "df[df['Age'].str.endswith('_')]"
   ]
  },
  {
   "cell_type": "code",
   "execution_count": 23,
   "id": "751771af-198a-46d3-8cd6-933826349904",
   "metadata": {},
   "outputs": [],
   "source": [
    "df['Age'] = df['Age'].astype('int')"
   ]
  },
  {
   "cell_type": "code",
   "execution_count": 24,
   "id": "a2494525-85d0-45b6-aada-6b626565ec57",
   "metadata": {},
   "outputs": [],
   "source": [
    "df = df[(df['Age'] > 0) & (df['Age'] < 100)]"
   ]
  },
  {
   "cell_type": "code",
   "execution_count": 99,
   "id": "b9dadfd8-a5cd-40a1-8185-4cdfad3814e8",
   "metadata": {},
   "outputs": [
    {
     "ename": "ValueError",
     "evalue": "Expected 2D array, got 1D array instead:\narray=[23. 23. 23. ... 25. 25. 25.].\nReshape your data either using array.reshape(-1, 1) if your data has a single feature or array.reshape(1, -1) if it contains a single sample.",
     "output_type": "error",
     "traceback": [
      "\u001b[1;31m---------------------------------------------------------------------------\u001b[0m",
      "\u001b[1;31mValueError\u001b[0m                                Traceback (most recent call last)",
      "\u001b[1;32m~\\AppData\\Local\\Temp\\ipykernel_14576\\2897790667.py\u001b[0m in \u001b[0;36m<module>\u001b[1;34m\u001b[0m\n\u001b[0;32m      2\u001b[0m \u001b[1;33m\u001b[0m\u001b[0m\n\u001b[0;32m      3\u001b[0m \u001b[0mstd_scaler\u001b[0m \u001b[1;33m=\u001b[0m \u001b[0mStandardScaler\u001b[0m\u001b[1;33m(\u001b[0m\u001b[1;33m)\u001b[0m\u001b[1;33m\u001b[0m\u001b[1;33m\u001b[0m\u001b[0m\n\u001b[1;32m----> 4\u001b[1;33m \u001b[0mdf\u001b[0m\u001b[1;33m[\u001b[0m\u001b[1;34m'Age'\u001b[0m\u001b[1;33m]\u001b[0m \u001b[1;33m=\u001b[0m \u001b[0mstd_scaler\u001b[0m\u001b[1;33m.\u001b[0m\u001b[0mfit_transform\u001b[0m\u001b[1;33m(\u001b[0m\u001b[0mdf\u001b[0m\u001b[1;33m[\u001b[0m\u001b[1;34m'Age'\u001b[0m\u001b[1;33m]\u001b[0m\u001b[1;33m)\u001b[0m \u001b[1;31m#normalize the age column value from -1 to 1\u001b[0m\u001b[1;33m\u001b[0m\u001b[1;33m\u001b[0m\u001b[0m\n\u001b[0m",
      "\u001b[1;32m~\\.virtualenvs\\CreditScore_Classification-yg9VUWWv\\lib\\site-packages\\sklearn\\base.py\u001b[0m in \u001b[0;36mfit_transform\u001b[1;34m(self, X, y, **fit_params)\u001b[0m\n\u001b[0;32m    850\u001b[0m         \u001b[1;32mif\u001b[0m \u001b[0my\u001b[0m \u001b[1;32mis\u001b[0m \u001b[1;32mNone\u001b[0m\u001b[1;33m:\u001b[0m\u001b[1;33m\u001b[0m\u001b[1;33m\u001b[0m\u001b[0m\n\u001b[0;32m    851\u001b[0m             \u001b[1;31m# fit method of arity 1 (unsupervised transformation)\u001b[0m\u001b[1;33m\u001b[0m\u001b[1;33m\u001b[0m\u001b[1;33m\u001b[0m\u001b[0m\n\u001b[1;32m--> 852\u001b[1;33m             \u001b[1;32mreturn\u001b[0m \u001b[0mself\u001b[0m\u001b[1;33m.\u001b[0m\u001b[0mfit\u001b[0m\u001b[1;33m(\u001b[0m\u001b[0mX\u001b[0m\u001b[1;33m,\u001b[0m \u001b[1;33m**\u001b[0m\u001b[0mfit_params\u001b[0m\u001b[1;33m)\u001b[0m\u001b[1;33m.\u001b[0m\u001b[0mtransform\u001b[0m\u001b[1;33m(\u001b[0m\u001b[0mX\u001b[0m\u001b[1;33m)\u001b[0m\u001b[1;33m\u001b[0m\u001b[1;33m\u001b[0m\u001b[0m\n\u001b[0m\u001b[0;32m    853\u001b[0m         \u001b[1;32melse\u001b[0m\u001b[1;33m:\u001b[0m\u001b[1;33m\u001b[0m\u001b[1;33m\u001b[0m\u001b[0m\n\u001b[0;32m    854\u001b[0m             \u001b[1;31m# fit method of arity 2 (supervised transformation)\u001b[0m\u001b[1;33m\u001b[0m\u001b[1;33m\u001b[0m\u001b[1;33m\u001b[0m\u001b[0m\n",
      "\u001b[1;32m~\\.virtualenvs\\CreditScore_Classification-yg9VUWWv\\lib\\site-packages\\sklearn\\preprocessing\\_data.py\u001b[0m in \u001b[0;36mfit\u001b[1;34m(self, X, y, sample_weight)\u001b[0m\n\u001b[0;32m    804\u001b[0m         \u001b[1;31m# Reset internal state before fitting\u001b[0m\u001b[1;33m\u001b[0m\u001b[1;33m\u001b[0m\u001b[1;33m\u001b[0m\u001b[0m\n\u001b[0;32m    805\u001b[0m         \u001b[0mself\u001b[0m\u001b[1;33m.\u001b[0m\u001b[0m_reset\u001b[0m\u001b[1;33m(\u001b[0m\u001b[1;33m)\u001b[0m\u001b[1;33m\u001b[0m\u001b[1;33m\u001b[0m\u001b[0m\n\u001b[1;32m--> 806\u001b[1;33m         \u001b[1;32mreturn\u001b[0m \u001b[0mself\u001b[0m\u001b[1;33m.\u001b[0m\u001b[0mpartial_fit\u001b[0m\u001b[1;33m(\u001b[0m\u001b[0mX\u001b[0m\u001b[1;33m,\u001b[0m \u001b[0my\u001b[0m\u001b[1;33m,\u001b[0m \u001b[0msample_weight\u001b[0m\u001b[1;33m)\u001b[0m\u001b[1;33m\u001b[0m\u001b[1;33m\u001b[0m\u001b[0m\n\u001b[0m\u001b[0;32m    807\u001b[0m \u001b[1;33m\u001b[0m\u001b[0m\n\u001b[0;32m    808\u001b[0m     \u001b[1;32mdef\u001b[0m \u001b[0mpartial_fit\u001b[0m\u001b[1;33m(\u001b[0m\u001b[0mself\u001b[0m\u001b[1;33m,\u001b[0m \u001b[0mX\u001b[0m\u001b[1;33m,\u001b[0m \u001b[0my\u001b[0m\u001b[1;33m=\u001b[0m\u001b[1;32mNone\u001b[0m\u001b[1;33m,\u001b[0m \u001b[0msample_weight\u001b[0m\u001b[1;33m=\u001b[0m\u001b[1;32mNone\u001b[0m\u001b[1;33m)\u001b[0m\u001b[1;33m:\u001b[0m\u001b[1;33m\u001b[0m\u001b[1;33m\u001b[0m\u001b[0m\n",
      "\u001b[1;32m~\\.virtualenvs\\CreditScore_Classification-yg9VUWWv\\lib\\site-packages\\sklearn\\preprocessing\\_data.py\u001b[0m in \u001b[0;36mpartial_fit\u001b[1;34m(self, X, y, sample_weight)\u001b[0m\n\u001b[0;32m    845\u001b[0m             \u001b[0mdtype\u001b[0m\u001b[1;33m=\u001b[0m\u001b[0mFLOAT_DTYPES\u001b[0m\u001b[1;33m,\u001b[0m\u001b[1;33m\u001b[0m\u001b[1;33m\u001b[0m\u001b[0m\n\u001b[0;32m    846\u001b[0m             \u001b[0mforce_all_finite\u001b[0m\u001b[1;33m=\u001b[0m\u001b[1;34m\"allow-nan\"\u001b[0m\u001b[1;33m,\u001b[0m\u001b[1;33m\u001b[0m\u001b[1;33m\u001b[0m\u001b[0m\n\u001b[1;32m--> 847\u001b[1;33m             \u001b[0mreset\u001b[0m\u001b[1;33m=\u001b[0m\u001b[0mfirst_call\u001b[0m\u001b[1;33m,\u001b[0m\u001b[1;33m\u001b[0m\u001b[1;33m\u001b[0m\u001b[0m\n\u001b[0m\u001b[0;32m    848\u001b[0m         )\n\u001b[0;32m    849\u001b[0m         \u001b[0mn_features\u001b[0m \u001b[1;33m=\u001b[0m \u001b[0mX\u001b[0m\u001b[1;33m.\u001b[0m\u001b[0mshape\u001b[0m\u001b[1;33m[\u001b[0m\u001b[1;36m1\u001b[0m\u001b[1;33m]\u001b[0m\u001b[1;33m\u001b[0m\u001b[1;33m\u001b[0m\u001b[0m\n",
      "\u001b[1;32m~\\.virtualenvs\\CreditScore_Classification-yg9VUWWv\\lib\\site-packages\\sklearn\\base.py\u001b[0m in \u001b[0;36m_validate_data\u001b[1;34m(self, X, y, reset, validate_separately, **check_params)\u001b[0m\n\u001b[0;32m    564\u001b[0m             \u001b[1;32mraise\u001b[0m \u001b[0mValueError\u001b[0m\u001b[1;33m(\u001b[0m\u001b[1;34m\"Validation should be done on X, y or both.\"\u001b[0m\u001b[1;33m)\u001b[0m\u001b[1;33m\u001b[0m\u001b[1;33m\u001b[0m\u001b[0m\n\u001b[0;32m    565\u001b[0m         \u001b[1;32melif\u001b[0m \u001b[1;32mnot\u001b[0m \u001b[0mno_val_X\u001b[0m \u001b[1;32mand\u001b[0m \u001b[0mno_val_y\u001b[0m\u001b[1;33m:\u001b[0m\u001b[1;33m\u001b[0m\u001b[1;33m\u001b[0m\u001b[0m\n\u001b[1;32m--> 566\u001b[1;33m             \u001b[0mX\u001b[0m \u001b[1;33m=\u001b[0m \u001b[0mcheck_array\u001b[0m\u001b[1;33m(\u001b[0m\u001b[0mX\u001b[0m\u001b[1;33m,\u001b[0m \u001b[1;33m**\u001b[0m\u001b[0mcheck_params\u001b[0m\u001b[1;33m)\u001b[0m\u001b[1;33m\u001b[0m\u001b[1;33m\u001b[0m\u001b[0m\n\u001b[0m\u001b[0;32m    567\u001b[0m             \u001b[0mout\u001b[0m \u001b[1;33m=\u001b[0m \u001b[0mX\u001b[0m\u001b[1;33m\u001b[0m\u001b[1;33m\u001b[0m\u001b[0m\n\u001b[0;32m    568\u001b[0m         \u001b[1;32melif\u001b[0m \u001b[0mno_val_X\u001b[0m \u001b[1;32mand\u001b[0m \u001b[1;32mnot\u001b[0m \u001b[0mno_val_y\u001b[0m\u001b[1;33m:\u001b[0m\u001b[1;33m\u001b[0m\u001b[1;33m\u001b[0m\u001b[0m\n",
      "\u001b[1;32m~\\.virtualenvs\\CreditScore_Classification-yg9VUWWv\\lib\\site-packages\\sklearn\\utils\\validation.py\u001b[0m in \u001b[0;36mcheck_array\u001b[1;34m(array, accept_sparse, accept_large_sparse, dtype, order, copy, force_all_finite, ensure_2d, allow_nd, ensure_min_samples, ensure_min_features, estimator)\u001b[0m\n\u001b[0;32m    771\u001b[0m                     \u001b[1;34m\"Reshape your data either using array.reshape(-1, 1) if \"\u001b[0m\u001b[1;33m\u001b[0m\u001b[1;33m\u001b[0m\u001b[0m\n\u001b[0;32m    772\u001b[0m                     \u001b[1;34m\"your data has a single feature or array.reshape(1, -1) \"\u001b[0m\u001b[1;33m\u001b[0m\u001b[1;33m\u001b[0m\u001b[0m\n\u001b[1;32m--> 773\u001b[1;33m                     \u001b[1;34m\"if it contains a single sample.\"\u001b[0m\u001b[1;33m.\u001b[0m\u001b[0mformat\u001b[0m\u001b[1;33m(\u001b[0m\u001b[0marray\u001b[0m\u001b[1;33m)\u001b[0m\u001b[1;33m\u001b[0m\u001b[1;33m\u001b[0m\u001b[0m\n\u001b[0m\u001b[0;32m    774\u001b[0m                 )\n\u001b[0;32m    775\u001b[0m \u001b[1;33m\u001b[0m\u001b[0m\n",
      "\u001b[1;31mValueError\u001b[0m: Expected 2D array, got 1D array instead:\narray=[23. 23. 23. ... 25. 25. 25.].\nReshape your data either using array.reshape(-1, 1) if your data has a single feature or array.reshape(1, -1) if it contains a single sample."
     ]
    }
   ],
   "source": [
    "from sklearn.preprocessing import StandardScaler\n",
    "\n",
    "std_scaler = StandardScaler()\n",
    "df['Age'] = std_scaler.fit_transform(df['Age']) #normalize the age column value from -1 to 1"
   ]
  },
  {
   "cell_type": "code",
   "execution_count": null,
   "id": "c77507fd-011a-48bd-8fd4-5610c9bf902f",
   "metadata": {},
   "outputs": [],
   "source": []
  },
  {
   "cell_type": "code",
   "execution_count": 25,
   "id": "8390bbb6-0b6c-49d4-aa55-a5748ae898c3",
   "metadata": {},
   "outputs": [
    {
     "data": {
      "text/plain": [
       "count    97223.000000\n",
       "mean        33.322588\n",
       "std         10.776843\n",
       "min         14.000000\n",
       "25%         24.000000\n",
       "50%         33.000000\n",
       "75%         42.000000\n",
       "max         99.000000\n",
       "Name: Age, dtype: float64"
      ]
     },
     "execution_count": 25,
     "metadata": {},
     "output_type": "execute_result"
    }
   ],
   "source": [
    "df['Age'].describe()"
   ]
  },
  {
   "cell_type": "markdown",
   "id": "515fdc56-eba2-4d58-bdf9-99fb76254c21",
   "metadata": {
    "jp-MarkdownHeadingCollapsed": true,
    "tags": []
   },
   "source": [
    "###### 2. Num_of_Loan (remove the postfix -> convert into int type -> filter the value less than 10)"
   ]
  },
  {
   "cell_type": "code",
   "execution_count": 26,
   "id": "074d4bf5-7522-46bb-ae7b-ddf7c7c0bb96",
   "metadata": {},
   "outputs": [
    {
     "data": {
      "text/html": [
       "<div>\n",
       "<style scoped>\n",
       "    .dataframe tbody tr th:only-of-type {\n",
       "        vertical-align: middle;\n",
       "    }\n",
       "\n",
       "    .dataframe tbody tr th {\n",
       "        vertical-align: top;\n",
       "    }\n",
       "\n",
       "    .dataframe thead th {\n",
       "        text-align: right;\n",
       "    }\n",
       "</style>\n",
       "<table border=\"1\" class=\"dataframe\">\n",
       "  <thead>\n",
       "    <tr style=\"text-align: right;\">\n",
       "      <th></th>\n",
       "      <th>ID</th>\n",
       "      <th>Customer_ID</th>\n",
       "      <th>Month</th>\n",
       "      <th>Name</th>\n",
       "      <th>Age</th>\n",
       "      <th>SSN</th>\n",
       "      <th>Occupation</th>\n",
       "      <th>Annual_Income</th>\n",
       "      <th>Monthly_Inhand_Salary</th>\n",
       "      <th>Num_Bank_Accounts</th>\n",
       "      <th>Num_Credit_Card</th>\n",
       "      <th>Interest_Rate</th>\n",
       "      <th>Num_of_Loan</th>\n",
       "      <th>Type_of_Loan</th>\n",
       "      <th>Delay_from_due_date</th>\n",
       "      <th>Num_of_Delayed_Payment</th>\n",
       "      <th>Changed_Credit_Limit</th>\n",
       "      <th>Num_Credit_Inquiries</th>\n",
       "      <th>Credit_Mix</th>\n",
       "      <th>Outstanding_Debt</th>\n",
       "      <th>Credit_Utilization_Ratio</th>\n",
       "      <th>Credit_History_Age</th>\n",
       "      <th>Payment_of_Min_Amount</th>\n",
       "      <th>Total_EMI_per_month</th>\n",
       "      <th>Amount_invested_monthly</th>\n",
       "      <th>Payment_Behaviour</th>\n",
       "      <th>Monthly_Balance</th>\n",
       "      <th>Credit_Score</th>\n",
       "    </tr>\n",
       "  </thead>\n",
       "  <tbody>\n",
       "  </tbody>\n",
       "</table>\n",
       "</div>"
      ],
      "text/plain": [
       "Empty DataFrame\n",
       "Columns: [ID, Customer_ID, Month, Name, Age, SSN, Occupation, Annual_Income, Monthly_Inhand_Salary, Num_Bank_Accounts, Num_Credit_Card, Interest_Rate, Num_of_Loan, Type_of_Loan, Delay_from_due_date, Num_of_Delayed_Payment, Changed_Credit_Limit, Num_Credit_Inquiries, Credit_Mix, Outstanding_Debt, Credit_Utilization_Ratio, Credit_History_Age, Payment_of_Min_Amount, Total_EMI_per_month, Amount_invested_monthly, Payment_Behaviour, Monthly_Balance, Credit_Score]\n",
       "Index: []"
      ]
     },
     "execution_count": 26,
     "metadata": {},
     "output_type": "execute_result"
    }
   ],
   "source": [
    "df['Num_of_Loan'] = df['Num_of_Loan'].apply(lambda x:x.rstrip('_'))\n",
    "df[df['Num_of_Loan'].str.endswith('_')]"
   ]
  },
  {
   "cell_type": "code",
   "execution_count": 27,
   "id": "ce7b3c41-54da-4b4b-bece-cda475640924",
   "metadata": {},
   "outputs": [
    {
     "data": {
      "text/plain": [
       "count    97223.000000\n",
       "mean         2.956152\n",
       "std         62.233850\n",
       "min       -100.000000\n",
       "25%          1.000000\n",
       "50%          3.000000\n",
       "75%          5.000000\n",
       "max       1496.000000\n",
       "Name: Num_of_Loan, dtype: float64"
      ]
     },
     "execution_count": 27,
     "metadata": {},
     "output_type": "execute_result"
    }
   ],
   "source": [
    "df['Num_of_Loan'] = df['Num_of_Loan'].astype('int')\n",
    "df['Num_of_Loan'].describe()"
   ]
  },
  {
   "cell_type": "code",
   "execution_count": 28,
   "id": "23aad5ca-6484-4870-8b9d-7faccb4f7a22",
   "metadata": {},
   "outputs": [
    {
     "data": {
      "text/plain": [
       "6       7585\n",
       "7       7130\n",
       "9       3602\n",
       "8       3105\n",
       "1150       4\n",
       "        ... \n",
       "630        1\n",
       "252        1\n",
       "745        1\n",
       "103        1\n",
       "966        1\n",
       "Name: Num_of_Loan, Length: 392, dtype: int64"
      ]
     },
     "execution_count": 28,
     "metadata": {},
     "output_type": "execute_result"
    }
   ],
   "source": [
    "df[df['Num_of_Loan'] > 5]['Num_of_Loan'].value_counts()"
   ]
  },
  {
   "cell_type": "code",
   "execution_count": 29,
   "id": "582a1d04-0469-4232-b0d6-241f95d05cd5",
   "metadata": {},
   "outputs": [],
   "source": [
    "df = df[(df['Num_of_Loan'] < 10)]"
   ]
  },
  {
   "cell_type": "code",
   "execution_count": 30,
   "id": "64e8431a-836e-4e07-8aaa-98d9e8cb86d1",
   "metadata": {},
   "outputs": [
    {
     "data": {
      "text/plain": [
       "count    96770.000000\n",
       "mean        -0.500599\n",
       "std         20.179147\n",
       "min       -100.000000\n",
       "25%          1.000000\n",
       "50%          3.000000\n",
       "75%          5.000000\n",
       "max          9.000000\n",
       "Name: Num_of_Loan, dtype: float64"
      ]
     },
     "execution_count": 30,
     "metadata": {},
     "output_type": "execute_result"
    }
   ],
   "source": [
    "df['Num_of_Loan'].describe()"
   ]
  },
  {
   "cell_type": "markdown",
   "id": "0e825461-81cf-4401-a4b7-feb9a3e25eff",
   "metadata": {
    "jp-MarkdownHeadingCollapsed": true,
    "tags": []
   },
   "source": [
    "###### 3. Num_of_Delayed_Payment (impute Missing Value with mode value -> remove postfix -> convert into float type)"
   ]
  },
  {
   "cell_type": "code",
   "execution_count": 31,
   "id": "f8d4a39c-8083-4bf2-a3e1-ab93305ec3b0",
   "metadata": {},
   "outputs": [
    {
     "data": {
      "text/plain": [
       "6796"
      ]
     },
     "execution_count": 31,
     "metadata": {},
     "output_type": "execute_result"
    }
   ],
   "source": [
    "df['Num_of_Delayed_Payment'].isnull().sum()"
   ]
  },
  {
   "cell_type": "code",
   "execution_count": 32,
   "id": "9ba90a50-a726-4b28-a583-94316904924d",
   "metadata": {},
   "outputs": [
    {
     "data": {
      "text/plain": [
       "0    19\n",
       "dtype: object"
      ]
     },
     "execution_count": 32,
     "metadata": {},
     "output_type": "execute_result"
    }
   ],
   "source": [
    "df['Num_of_Delayed_Payment'].mode()"
   ]
  },
  {
   "cell_type": "code",
   "execution_count": 33,
   "id": "c7366404-2bc3-41ca-b08d-01656b71b92b",
   "metadata": {},
   "outputs": [
    {
     "data": {
      "text/plain": [
       "Standard    3636\n",
       "Poor        1952\n",
       "Good        1208\n",
       "Name: Credit_Score, dtype: int64"
      ]
     },
     "execution_count": 33,
     "metadata": {},
     "output_type": "execute_result"
    }
   ],
   "source": [
    "df[df['Num_of_Delayed_Payment'].isnull()]['Credit_Score'].value_counts()"
   ]
  },
  {
   "cell_type": "code",
   "execution_count": 34,
   "id": "5aed434f-543d-4123-9959-acbe2a780bf7",
   "metadata": {},
   "outputs": [
    {
     "data": {
      "text/plain": [
       "Credit_Score  Num_of_Delayed_Payment\n",
       "Standard      17                        3028\n",
       "              16                        2962\n",
       "              19                        2945\n",
       "              15                        2941\n",
       "              12                        2866\n",
       "                                        ... \n",
       "              94                           1\n",
       "              960                          1\n",
       "              972                          1\n",
       "              98                           1\n",
       "              996                          1\n",
       "Name: Num_of_Delayed_Payment, Length: 437, dtype: int64"
      ]
     },
     "execution_count": 34,
     "metadata": {},
     "output_type": "execute_result"
    }
   ],
   "source": [
    "df[df['Credit_Score'] == 'Standard'].groupby('Credit_Score')['Num_of_Delayed_Payment'].value_counts()"
   ]
  },
  {
   "cell_type": "code",
   "execution_count": 35,
   "id": "44f91e40-c79a-4fc9-b3b9-4da94e1bcc40",
   "metadata": {},
   "outputs": [],
   "source": [
    "impute_value_Num_of_Delayed_Payment = df['Num_of_Delayed_Payment'].mode()[0]\n",
    "\n",
    "df['Num_of_Delayed_Payment'] = df['Num_of_Delayed_Payment'].fillna('19')"
   ]
  },
  {
   "cell_type": "code",
   "execution_count": 36,
   "id": "100391ce-3dea-4b37-9944-04b92bce03cd",
   "metadata": {},
   "outputs": [],
   "source": [
    "df['Num_of_Delayed_Payment'] = df['Num_of_Delayed_Payment'].apply(lambda x:x.rstrip('_'))\n",
    "df['Num_of_Delayed_Payment'] = df['Num_of_Delayed_Payment'].astype('int')"
   ]
  },
  {
   "cell_type": "markdown",
   "id": "f8e60334-5bd3-43f7-9e22-df1b1a05d93f",
   "metadata": {},
   "source": [
    "#### 2. Float Columns"
   ]
  },
  {
   "cell_type": "markdown",
   "id": "d63a9a61-558d-4de5-836e-ccee03236bd2",
   "metadata": {
    "jp-MarkdownHeadingCollapsed": true,
    "tags": []
   },
   "source": [
    "##### 1. Annual_Income (remove the postfix -> convert into float type)"
   ]
  },
  {
   "cell_type": "code",
   "execution_count": 37,
   "id": "82c5331b-26a4-4837-ae32-103d482bad75",
   "metadata": {},
   "outputs": [],
   "source": [
    "df['Annual_Income'] = df['Annual_Income'].apply(lambda x:x.rstrip('_'))"
   ]
  },
  {
   "cell_type": "code",
   "execution_count": 38,
   "id": "cf6b6f4a-d29a-4682-bb22-ec8ab801a97a",
   "metadata": {},
   "outputs": [
    {
     "data": {
      "text/html": [
       "<div>\n",
       "<style scoped>\n",
       "    .dataframe tbody tr th:only-of-type {\n",
       "        vertical-align: middle;\n",
       "    }\n",
       "\n",
       "    .dataframe tbody tr th {\n",
       "        vertical-align: top;\n",
       "    }\n",
       "\n",
       "    .dataframe thead th {\n",
       "        text-align: right;\n",
       "    }\n",
       "</style>\n",
       "<table border=\"1\" class=\"dataframe\">\n",
       "  <thead>\n",
       "    <tr style=\"text-align: right;\">\n",
       "      <th></th>\n",
       "      <th>ID</th>\n",
       "      <th>Customer_ID</th>\n",
       "      <th>Month</th>\n",
       "      <th>Name</th>\n",
       "      <th>Age</th>\n",
       "      <th>SSN</th>\n",
       "      <th>Occupation</th>\n",
       "      <th>Annual_Income</th>\n",
       "      <th>Monthly_Inhand_Salary</th>\n",
       "      <th>Num_Bank_Accounts</th>\n",
       "      <th>Num_Credit_Card</th>\n",
       "      <th>Interest_Rate</th>\n",
       "      <th>Num_of_Loan</th>\n",
       "      <th>Type_of_Loan</th>\n",
       "      <th>Delay_from_due_date</th>\n",
       "      <th>Num_of_Delayed_Payment</th>\n",
       "      <th>Changed_Credit_Limit</th>\n",
       "      <th>Num_Credit_Inquiries</th>\n",
       "      <th>Credit_Mix</th>\n",
       "      <th>Outstanding_Debt</th>\n",
       "      <th>Credit_Utilization_Ratio</th>\n",
       "      <th>Credit_History_Age</th>\n",
       "      <th>Payment_of_Min_Amount</th>\n",
       "      <th>Total_EMI_per_month</th>\n",
       "      <th>Amount_invested_monthly</th>\n",
       "      <th>Payment_Behaviour</th>\n",
       "      <th>Monthly_Balance</th>\n",
       "      <th>Credit_Score</th>\n",
       "    </tr>\n",
       "  </thead>\n",
       "  <tbody>\n",
       "  </tbody>\n",
       "</table>\n",
       "</div>"
      ],
      "text/plain": [
       "Empty DataFrame\n",
       "Columns: [ID, Customer_ID, Month, Name, Age, SSN, Occupation, Annual_Income, Monthly_Inhand_Salary, Num_Bank_Accounts, Num_Credit_Card, Interest_Rate, Num_of_Loan, Type_of_Loan, Delay_from_due_date, Num_of_Delayed_Payment, Changed_Credit_Limit, Num_Credit_Inquiries, Credit_Mix, Outstanding_Debt, Credit_Utilization_Ratio, Credit_History_Age, Payment_of_Min_Amount, Total_EMI_per_month, Amount_invested_monthly, Payment_Behaviour, Monthly_Balance, Credit_Score]\n",
       "Index: []"
      ]
     },
     "execution_count": 38,
     "metadata": {},
     "output_type": "execute_result"
    }
   ],
   "source": [
    "df[df['Annual_Income'].str.endswith(\"_\")]"
   ]
  },
  {
   "cell_type": "code",
   "execution_count": 39,
   "id": "c78b5ce7-a634-44ee-a397-4d382e45b667",
   "metadata": {},
   "outputs": [],
   "source": [
    "df['Annual_Income'] = df['Annual_Income'].astype(\"float\")"
   ]
  },
  {
   "cell_type": "markdown",
   "id": "07a01f95-1409-452b-b63f-9d0018c35534",
   "metadata": {
    "jp-MarkdownHeadingCollapsed": true,
    "tags": []
   },
   "source": [
    "##### 2. Changed_Credit_Limit (replace _ to 0 -> convert to float)"
   ]
  },
  {
   "cell_type": "code",
   "execution_count": 40,
   "id": "07adc166-78a6-4401-94bc-8548271f4d4d",
   "metadata": {},
   "outputs": [
    {
     "data": {
      "text/plain": [
       "_    2023\n",
       "Name: Changed_Credit_Limit, dtype: int64"
      ]
     },
     "execution_count": 40,
     "metadata": {},
     "output_type": "execute_result"
    }
   ],
   "source": [
    "df[df['Changed_Credit_Limit'].str.endswith('_')]['Changed_Credit_Limit'].value_counts()"
   ]
  },
  {
   "cell_type": "code",
   "execution_count": 41,
   "id": "25061c33-61e1-4386-8cb2-e0da8cb819d6",
   "metadata": {},
   "outputs": [],
   "source": [
    "df['Changed_Credit_Limit'] = df['Changed_Credit_Limit'].replace('_', 0)"
   ]
  },
  {
   "cell_type": "code",
   "execution_count": 42,
   "id": "c9ef6df4-3fdb-417c-a6ed-43775f5cfe04",
   "metadata": {},
   "outputs": [
    {
     "data": {
      "text/plain": [
       "0                     2023\n",
       "8.22                   133\n",
       "11.5                   125\n",
       "11.32                  121\n",
       "10.06                  119\n",
       "                      ... \n",
       "0.8899999999999999       1\n",
       "30.48                    1\n",
       "27.28                    1\n",
       "1.4800000000000004       1\n",
       "21.17                    1\n",
       "Name: Changed_Credit_Limit, Length: 4371, dtype: int64"
      ]
     },
     "execution_count": 42,
     "metadata": {},
     "output_type": "execute_result"
    }
   ],
   "source": [
    "df['Changed_Credit_Limit'].value_counts()"
   ]
  },
  {
   "cell_type": "code",
   "execution_count": 43,
   "id": "39db68ed-e90a-41a6-8939-104b0f5619b3",
   "metadata": {},
   "outputs": [],
   "source": [
    "df['Changed_Credit_Limit'] = df['Changed_Credit_Limit'].astype('float')"
   ]
  },
  {
   "cell_type": "code",
   "execution_count": null,
   "id": "f75e9835-03a4-4382-9a52-7ecb5310cafe",
   "metadata": {},
   "outputs": [],
   "source": []
  },
  {
   "cell_type": "markdown",
   "id": "619dcd2b-0dad-441b-a629-bf2e175532ef",
   "metadata": {
    "jp-MarkdownHeadingCollapsed": true,
    "tags": []
   },
   "source": [
    "##### 3. Outstanding_Debt (remove the postfix -> convert into float type)"
   ]
  },
  {
   "cell_type": "code",
   "execution_count": 44,
   "id": "ce693814-7763-45d0-8809-3d3e25534dca",
   "metadata": {},
   "outputs": [
    {
     "data": {
      "text/plain": [
       "1151.7      23\n",
       "1360.45     22\n",
       "1109.03     21\n",
       "460.46      20\n",
       "1123.0      16\n",
       "            ..\n",
       "3523.03_     1\n",
       "1073.76_     1\n",
       "465.88_      1\n",
       "4381.33_     1\n",
       "754.8_       1\n",
       "Name: Outstanding_Debt, Length: 13144, dtype: int64"
      ]
     },
     "execution_count": 44,
     "metadata": {},
     "output_type": "execute_result"
    }
   ],
   "source": [
    "df['Outstanding_Debt'].value_counts()"
   ]
  },
  {
   "cell_type": "code",
   "execution_count": 45,
   "id": "15a23d86-361b-4ebe-b1cf-ea8deee87536",
   "metadata": {},
   "outputs": [],
   "source": [
    "df['Outstanding_Debt'] = df['Outstanding_Debt'].apply(lambda x:x.rstrip('_'))"
   ]
  },
  {
   "cell_type": "code",
   "execution_count": 46,
   "id": "6d1cdc00-5a08-4052-bbb6-e6fb69aad40d",
   "metadata": {},
   "outputs": [
    {
     "data": {
      "text/html": [
       "<div>\n",
       "<style scoped>\n",
       "    .dataframe tbody tr th:only-of-type {\n",
       "        vertical-align: middle;\n",
       "    }\n",
       "\n",
       "    .dataframe tbody tr th {\n",
       "        vertical-align: top;\n",
       "    }\n",
       "\n",
       "    .dataframe thead th {\n",
       "        text-align: right;\n",
       "    }\n",
       "</style>\n",
       "<table border=\"1\" class=\"dataframe\">\n",
       "  <thead>\n",
       "    <tr style=\"text-align: right;\">\n",
       "      <th></th>\n",
       "      <th>ID</th>\n",
       "      <th>Customer_ID</th>\n",
       "      <th>Month</th>\n",
       "      <th>Name</th>\n",
       "      <th>Age</th>\n",
       "      <th>SSN</th>\n",
       "      <th>Occupation</th>\n",
       "      <th>Annual_Income</th>\n",
       "      <th>Monthly_Inhand_Salary</th>\n",
       "      <th>Num_Bank_Accounts</th>\n",
       "      <th>Num_Credit_Card</th>\n",
       "      <th>Interest_Rate</th>\n",
       "      <th>Num_of_Loan</th>\n",
       "      <th>Type_of_Loan</th>\n",
       "      <th>Delay_from_due_date</th>\n",
       "      <th>Num_of_Delayed_Payment</th>\n",
       "      <th>Changed_Credit_Limit</th>\n",
       "      <th>Num_Credit_Inquiries</th>\n",
       "      <th>Credit_Mix</th>\n",
       "      <th>Outstanding_Debt</th>\n",
       "      <th>Credit_Utilization_Ratio</th>\n",
       "      <th>Credit_History_Age</th>\n",
       "      <th>Payment_of_Min_Amount</th>\n",
       "      <th>Total_EMI_per_month</th>\n",
       "      <th>Amount_invested_monthly</th>\n",
       "      <th>Payment_Behaviour</th>\n",
       "      <th>Monthly_Balance</th>\n",
       "      <th>Credit_Score</th>\n",
       "    </tr>\n",
       "  </thead>\n",
       "  <tbody>\n",
       "  </tbody>\n",
       "</table>\n",
       "</div>"
      ],
      "text/plain": [
       "Empty DataFrame\n",
       "Columns: [ID, Customer_ID, Month, Name, Age, SSN, Occupation, Annual_Income, Monthly_Inhand_Salary, Num_Bank_Accounts, Num_Credit_Card, Interest_Rate, Num_of_Loan, Type_of_Loan, Delay_from_due_date, Num_of_Delayed_Payment, Changed_Credit_Limit, Num_Credit_Inquiries, Credit_Mix, Outstanding_Debt, Credit_Utilization_Ratio, Credit_History_Age, Payment_of_Min_Amount, Total_EMI_per_month, Amount_invested_monthly, Payment_Behaviour, Monthly_Balance, Credit_Score]\n",
       "Index: []"
      ]
     },
     "execution_count": 46,
     "metadata": {},
     "output_type": "execute_result"
    }
   ],
   "source": [
    "df[df['Outstanding_Debt'].str.endswith(\"_\")]"
   ]
  },
  {
   "cell_type": "code",
   "execution_count": 47,
   "id": "455170a8-42a9-4a26-a555-2279d0e6c26b",
   "metadata": {},
   "outputs": [],
   "source": [
    "df['Outstanding_Debt'] = df['Outstanding_Debt'].astype(\"float\")"
   ]
  },
  {
   "cell_type": "markdown",
   "id": "7878d8a6-60ac-4cbf-aa69-e9d50c8f03d7",
   "metadata": {
    "jp-MarkdownHeadingCollapsed": true,
    "tags": []
   },
   "source": [
    "##### 4. Amount_invested_monthly"
   ]
  },
  {
   "cell_type": "code",
   "execution_count": 48,
   "id": "8c6b849d-8ede-4cd6-b5ba-7b1f2cea3fc8",
   "metadata": {},
   "outputs": [
    {
     "data": {
      "text/plain": [
       "(4317, 28)"
      ]
     },
     "execution_count": 48,
     "metadata": {},
     "output_type": "execute_result"
    }
   ],
   "source": [
    "df[df[\"Amount_invested_monthly\"].isnull()].shape"
   ]
  },
  {
   "cell_type": "code",
   "execution_count": 49,
   "id": "8deab7ae-ef24-425c-a476-c279a8851b3d",
   "metadata": {},
   "outputs": [],
   "source": [
    "df[\"Amount_invested_monthly\"] = df[\"Amount_invested_monthly\"].fillna(0)"
   ]
  },
  {
   "cell_type": "code",
   "execution_count": 50,
   "id": "e4394511-9131-4dbe-9ea8-824b7d40f80e",
   "metadata": {},
   "outputs": [
    {
     "data": {
      "text/plain": [
       "__10000__    4157\n",
       "Name: Amount_invested_monthly, dtype: int64"
      ]
     },
     "execution_count": 50,
     "metadata": {},
     "output_type": "execute_result"
    }
   ],
   "source": [
    "df[(df[\"Amount_invested_monthly\"].str.endswith(\"_\")) & (df[\"Amount_invested_monthly\"].str.startswith(\"_\"))][\"Amount_invested_monthly\"].value_counts()"
   ]
  },
  {
   "cell_type": "code",
   "execution_count": 51,
   "id": "ca1e17e1-7139-46ab-923f-6925e78cf8eb",
   "metadata": {},
   "outputs": [],
   "source": [
    "df[\"Amount_invested_monthly\"] = df[\"Amount_invested_monthly\"].replace(\"__10000__\", \"10000\")"
   ]
  },
  {
   "cell_type": "code",
   "execution_count": 52,
   "id": "cf67fe44-7d92-4c82-9a29-9b88f0284461",
   "metadata": {},
   "outputs": [
    {
     "data": {
      "text/plain": [
       "0                     4317\n",
       "10000                 4157\n",
       "0.0                    162\n",
       "81.77340833765794        1\n",
       "195.5938316873959        1\n",
       "                      ... \n",
       "908.6319908830916        1\n",
       "230.18636879976884       1\n",
       "132.4517797000913        1\n",
       "244.49349341323514       1\n",
       "167.1638651610451        1\n",
       "Name: Amount_invested_monthly, Length: 88137, dtype: int64"
      ]
     },
     "execution_count": 52,
     "metadata": {},
     "output_type": "execute_result"
    }
   ],
   "source": [
    "df[\"Amount_invested_monthly\"].value_counts()"
   ]
  },
  {
   "cell_type": "code",
   "execution_count": 53,
   "id": "e8e729ed-2bdb-4475-a92e-9d4073d51293",
   "metadata": {},
   "outputs": [],
   "source": [
    "df[\"Amount_invested_monthly\"] = df[\"Amount_invested_monthly\"].astype(\"float\")"
   ]
  },
  {
   "cell_type": "markdown",
   "id": "053d6b97-23a2-4960-807e-5ab44887770c",
   "metadata": {
    "jp-MarkdownHeadingCollapsed": true,
    "tags": []
   },
   "source": [
    "##### 5. Monthly_Balance"
   ]
  },
  {
   "cell_type": "code",
   "execution_count": 54,
   "id": "32fc3104-2755-4dae-bb08-a66b6667f28f",
   "metadata": {},
   "outputs": [],
   "source": [
    "df = df[df['Monthly_Balance'] != '__-333333333333333333333333333__']"
   ]
  },
  {
   "cell_type": "code",
   "execution_count": 55,
   "id": "169332cd-b3a7-4806-b0b8-84fc23c32f85",
   "metadata": {},
   "outputs": [],
   "source": [
    "df['Monthly_Balance'] = df['Monthly_Balance'].astype(\"float\")"
   ]
  },
  {
   "cell_type": "markdown",
   "id": "c70e93c4-1c0b-4655-86f0-a368a69ed9fa",
   "metadata": {
    "tags": []
   },
   "source": [
    "##### Conclusion"
   ]
  },
  {
   "cell_type": "code",
   "execution_count": 56,
   "id": "48640862-c885-4046-ad4a-6a9ad96a6e41",
   "metadata": {},
   "outputs": [
    {
     "data": {
      "text/plain": [
       "['Age',\n",
       " 'Annual_Income',\n",
       " 'Monthly_Inhand_Salary',\n",
       " 'Num_Bank_Accounts',\n",
       " 'Num_Credit_Card',\n",
       " 'Interest_Rate',\n",
       " 'Num_of_Loan',\n",
       " 'Delay_from_due_date',\n",
       " 'Num_of_Delayed_Payment',\n",
       " 'Changed_Credit_Limit',\n",
       " 'Num_Credit_Inquiries',\n",
       " 'Outstanding_Debt',\n",
       " 'Credit_Utilization_Ratio',\n",
       " 'Total_EMI_per_month',\n",
       " 'Amount_invested_monthly',\n",
       " 'Monthly_Balance']"
      ]
     },
     "execution_count": 56,
     "metadata": {},
     "output_type": "execute_result"
    }
   ],
   "source": [
    "[feature for feature in df.columns if (df[feature].dtypes == 'int64') or (df[feature].dtypes == 'int32') or (df[feature].dtypes == 'float64')]"
   ]
  },
  {
   "cell_type": "code",
   "execution_count": 57,
   "id": "9670e30f-7585-4d52-a8d4-fe24b6fee2a2",
   "metadata": {},
   "outputs": [
    {
     "data": {
      "text/plain": [
       "['ID',\n",
       " 'Customer_ID',\n",
       " 'Month',\n",
       " 'Name',\n",
       " 'SSN',\n",
       " 'Occupation',\n",
       " 'Type_of_Loan',\n",
       " 'Credit_Mix',\n",
       " 'Credit_History_Age',\n",
       " 'Payment_of_Min_Amount',\n",
       " 'Payment_Behaviour',\n",
       " 'Credit_Score']"
      ]
     },
     "execution_count": 57,
     "metadata": {},
     "output_type": "execute_result"
    }
   ],
   "source": [
    "[feature for feature in df.columns if (df[feature].dtypes == 'object')]"
   ]
  },
  {
   "cell_type": "code",
   "execution_count": 91,
   "id": "237489df-46ee-4e23-976a-5c54475f3735",
   "metadata": {},
   "outputs": [
    {
     "data": {
      "text/plain": [
       "Standard    51469\n",
       "Poor        28092\n",
       "Good        17200\n",
       "Name: Credit_Score, dtype: int64"
      ]
     },
     "execution_count": 91,
     "metadata": {},
     "output_type": "execute_result"
    }
   ],
   "source": [
    "df[\"Credit_Score\"].value_counts()"
   ]
  },
  {
   "cell_type": "code",
   "execution_count": 62,
   "id": "353d1070-edae-4dc1-8fc0-539a1fc7d209",
   "metadata": {},
   "outputs": [
    {
     "data": {
      "text/html": [
       "<div>\n",
       "<style scoped>\n",
       "    .dataframe tbody tr th:only-of-type {\n",
       "        vertical-align: middle;\n",
       "    }\n",
       "\n",
       "    .dataframe tbody tr th {\n",
       "        vertical-align: top;\n",
       "    }\n",
       "\n",
       "    .dataframe thead th {\n",
       "        text-align: right;\n",
       "    }\n",
       "</style>\n",
       "<table border=\"1\" class=\"dataframe\">\n",
       "  <thead>\n",
       "    <tr style=\"text-align: right;\">\n",
       "      <th></th>\n",
       "      <th>ID</th>\n",
       "      <th>Customer_ID</th>\n",
       "      <th>Month</th>\n",
       "      <th>Name</th>\n",
       "      <th>SSN</th>\n",
       "      <th>Occupation</th>\n",
       "      <th>Type_of_Loan</th>\n",
       "      <th>Credit_Mix</th>\n",
       "      <th>Credit_History_Age</th>\n",
       "      <th>Payment_of_Min_Amount</th>\n",
       "      <th>Payment_Behaviour</th>\n",
       "      <th>Credit_Score</th>\n",
       "    </tr>\n",
       "  </thead>\n",
       "  <tbody>\n",
       "    <tr>\n",
       "      <th>count</th>\n",
       "      <td>96761</td>\n",
       "      <td>96761</td>\n",
       "      <td>96761</td>\n",
       "      <td>87094</td>\n",
       "      <td>96761</td>\n",
       "      <td>96761</td>\n",
       "      <td>85744</td>\n",
       "      <td>96761</td>\n",
       "      <td>88014</td>\n",
       "      <td>96761</td>\n",
       "      <td>96761</td>\n",
       "      <td>96761</td>\n",
       "    </tr>\n",
       "    <tr>\n",
       "      <th>unique</th>\n",
       "      <td>96761</td>\n",
       "      <td>12500</td>\n",
       "      <td>8</td>\n",
       "      <td>10139</td>\n",
       "      <td>12501</td>\n",
       "      <td>16</td>\n",
       "      <td>6260</td>\n",
       "      <td>4</td>\n",
       "      <td>404</td>\n",
       "      <td>3</td>\n",
       "      <td>7</td>\n",
       "      <td>3</td>\n",
       "    </tr>\n",
       "    <tr>\n",
       "      <th>top</th>\n",
       "      <td>0x1602</td>\n",
       "      <td>CUS_0x2646</td>\n",
       "      <td>August</td>\n",
       "      <td>Langep</td>\n",
       "      <td>#F%$D@*&amp;8</td>\n",
       "      <td>_______</td>\n",
       "      <td>Not Specified</td>\n",
       "      <td>Standard</td>\n",
       "      <td>15 Years and 11 Months</td>\n",
       "      <td>Yes</td>\n",
       "      <td>Low_spent_Small_value_payments</td>\n",
       "      <td>Standard</td>\n",
       "    </tr>\n",
       "    <tr>\n",
       "      <th>freq</th>\n",
       "      <td>1</td>\n",
       "      <td>8</td>\n",
       "      <td>12115</td>\n",
       "      <td>42</td>\n",
       "      <td>5388</td>\n",
       "      <td>6837</td>\n",
       "      <td>1372</td>\n",
       "      <td>35340</td>\n",
       "      <td>431</td>\n",
       "      <td>50680</td>\n",
       "      <td>24730</td>\n",
       "      <td>51469</td>\n",
       "    </tr>\n",
       "  </tbody>\n",
       "</table>\n",
       "</div>"
      ],
      "text/plain": [
       "            ID Customer_ID   Month    Name        SSN Occupation   Type_of_Loan Credit_Mix      Credit_History_Age Payment_of_Min_Amount               Payment_Behaviour Credit_Score\n",
       "count    96761       96761   96761   87094      96761      96761          85744      96761                   88014                 96761                           96761        96761\n",
       "unique   96761       12500       8   10139      12501         16           6260          4                     404                     3                               7            3\n",
       "top     0x1602  CUS_0x2646  August  Langep  #F%$D@*&8    _______  Not Specified   Standard  15 Years and 11 Months                   Yes  Low_spent_Small_value_payments     Standard\n",
       "freq         1           8   12115      42       5388       6837           1372      35340                     431                 50680                           24730        51469"
      ]
     },
     "execution_count": 62,
     "metadata": {},
     "output_type": "execute_result"
    }
   ],
   "source": [
    "df.describe(include = 'O')"
   ]
  },
  {
   "cell_type": "code",
   "execution_count": 63,
   "id": "965c36a2-bbdf-41b3-9901-e1e543f7e70a",
   "metadata": {},
   "outputs": [
    {
     "data": {
      "text/html": [
       "<div>\n",
       "<style scoped>\n",
       "    .dataframe tbody tr th:only-of-type {\n",
       "        vertical-align: middle;\n",
       "    }\n",
       "\n",
       "    .dataframe tbody tr th {\n",
       "        vertical-align: top;\n",
       "    }\n",
       "\n",
       "    .dataframe thead th {\n",
       "        text-align: right;\n",
       "    }\n",
       "</style>\n",
       "<table border=\"1\" class=\"dataframe\">\n",
       "  <thead>\n",
       "    <tr style=\"text-align: right;\">\n",
       "      <th></th>\n",
       "      <th>Age</th>\n",
       "      <th>Annual_Income</th>\n",
       "      <th>Monthly_Inhand_Salary</th>\n",
       "      <th>Num_Bank_Accounts</th>\n",
       "      <th>Num_Credit_Card</th>\n",
       "      <th>Interest_Rate</th>\n",
       "      <th>Num_of_Loan</th>\n",
       "      <th>Delay_from_due_date</th>\n",
       "      <th>Num_of_Delayed_Payment</th>\n",
       "      <th>Changed_Credit_Limit</th>\n",
       "      <th>Num_Credit_Inquiries</th>\n",
       "      <th>Outstanding_Debt</th>\n",
       "      <th>Credit_Utilization_Ratio</th>\n",
       "      <th>Total_EMI_per_month</th>\n",
       "      <th>Amount_invested_monthly</th>\n",
       "      <th>Monthly_Balance</th>\n",
       "    </tr>\n",
       "  </thead>\n",
       "  <tbody>\n",
       "    <tr>\n",
       "      <th>count</th>\n",
       "      <td>96761.000000</td>\n",
       "      <td>9.676100e+04</td>\n",
       "      <td>82208.000000</td>\n",
       "      <td>96761.000000</td>\n",
       "      <td>96761.000000</td>\n",
       "      <td>96761.000000</td>\n",
       "      <td>96761.000000</td>\n",
       "      <td>96761.000000</td>\n",
       "      <td>96761.000000</td>\n",
       "      <td>96761.000000</td>\n",
       "      <td>94865.000000</td>\n",
       "      <td>96761.000000</td>\n",
       "      <td>96761.000000</td>\n",
       "      <td>96761.000000</td>\n",
       "      <td>96761.000000</td>\n",
       "      <td>95587.000000</td>\n",
       "    </tr>\n",
       "    <tr>\n",
       "      <th>mean</th>\n",
       "      <td>33.321752</td>\n",
       "      <td>1.769172e+05</td>\n",
       "      <td>4194.905404</td>\n",
       "      <td>17.142175</td>\n",
       "      <td>22.432550</td>\n",
       "      <td>72.631804</td>\n",
       "      <td>-0.500946</td>\n",
       "      <td>21.086233</td>\n",
       "      <td>29.924815</td>\n",
       "      <td>10.172644</td>\n",
       "      <td>27.895072</td>\n",
       "      <td>1426.666187</td>\n",
       "      <td>32.284805</td>\n",
       "      <td>1395.907438</td>\n",
       "      <td>608.250532</td>\n",
       "      <td>402.435801</td>\n",
       "    </tr>\n",
       "    <tr>\n",
       "      <th>std</th>\n",
       "      <td>10.776667</td>\n",
       "      <td>1.433619e+06</td>\n",
       "      <td>3182.626075</td>\n",
       "      <td>117.813388</td>\n",
       "      <td>128.760896</td>\n",
       "      <td>467.303318</td>\n",
       "      <td>20.180038</td>\n",
       "      <td>14.864042</td>\n",
       "      <td>216.841244</td>\n",
       "      <td>6.881360</td>\n",
       "      <td>193.814303</td>\n",
       "      <td>1155.483606</td>\n",
       "      <td>5.118074</td>\n",
       "      <td>8277.814085</td>\n",
       "      <td>1999.411520</td>\n",
       "      <td>213.889580</td>\n",
       "    </tr>\n",
       "    <tr>\n",
       "      <th>min</th>\n",
       "      <td>14.000000</td>\n",
       "      <td>7.005930e+03</td>\n",
       "      <td>303.645417</td>\n",
       "      <td>-1.000000</td>\n",
       "      <td>0.000000</td>\n",
       "      <td>1.000000</td>\n",
       "      <td>-100.000000</td>\n",
       "      <td>-5.000000</td>\n",
       "      <td>-3.000000</td>\n",
       "      <td>-6.480000</td>\n",
       "      <td>0.000000</td>\n",
       "      <td>0.230000</td>\n",
       "      <td>20.000000</td>\n",
       "      <td>0.000000</td>\n",
       "      <td>0.000000</td>\n",
       "      <td>0.007760</td>\n",
       "    </tr>\n",
       "    <tr>\n",
       "      <th>25%</th>\n",
       "      <td>24.000000</td>\n",
       "      <td>1.946292e+04</td>\n",
       "      <td>1626.525000</td>\n",
       "      <td>3.000000</td>\n",
       "      <td>4.000000</td>\n",
       "      <td>8.000000</td>\n",
       "      <td>1.000000</td>\n",
       "      <td>10.000000</td>\n",
       "      <td>9.000000</td>\n",
       "      <td>4.970000</td>\n",
       "      <td>3.000000</td>\n",
       "      <td>566.080000</td>\n",
       "      <td>28.053579</td>\n",
       "      <td>30.356067</td>\n",
       "      <td>67.452507</td>\n",
       "      <td>270.083355</td>\n",
       "    </tr>\n",
       "    <tr>\n",
       "      <th>50%</th>\n",
       "      <td>33.000000</td>\n",
       "      <td>3.758034e+04</td>\n",
       "      <td>3096.378333</td>\n",
       "      <td>6.000000</td>\n",
       "      <td>5.000000</td>\n",
       "      <td>13.000000</td>\n",
       "      <td>3.000000</td>\n",
       "      <td>18.000000</td>\n",
       "      <td>15.000000</td>\n",
       "      <td>9.250000</td>\n",
       "      <td>6.000000</td>\n",
       "      <td>1166.230000</td>\n",
       "      <td>32.305298</td>\n",
       "      <td>69.272824</td>\n",
       "      <td>128.772885</td>\n",
       "      <td>336.683990</td>\n",
       "    </tr>\n",
       "    <tr>\n",
       "      <th>75%</th>\n",
       "      <td>42.000000</td>\n",
       "      <td>7.281702e+04</td>\n",
       "      <td>5961.637500</td>\n",
       "      <td>7.000000</td>\n",
       "      <td>7.000000</td>\n",
       "      <td>20.000000</td>\n",
       "      <td>5.000000</td>\n",
       "      <td>28.000000</td>\n",
       "      <td>19.000000</td>\n",
       "      <td>14.650000</td>\n",
       "      <td>9.000000</td>\n",
       "      <td>1948.880000</td>\n",
       "      <td>36.498978</td>\n",
       "      <td>161.340704</td>\n",
       "      <td>255.504926</td>\n",
       "      <td>469.941466</td>\n",
       "    </tr>\n",
       "    <tr>\n",
       "      <th>max</th>\n",
       "      <td>99.000000</td>\n",
       "      <td>2.419806e+07</td>\n",
       "      <td>15204.633333</td>\n",
       "      <td>1798.000000</td>\n",
       "      <td>1499.000000</td>\n",
       "      <td>5797.000000</td>\n",
       "      <td>9.000000</td>\n",
       "      <td>67.000000</td>\n",
       "      <td>4397.000000</td>\n",
       "      <td>36.970000</td>\n",
       "      <td>2597.000000</td>\n",
       "      <td>4998.070000</td>\n",
       "      <td>50.000000</td>\n",
       "      <td>82331.000000</td>\n",
       "      <td>10000.000000</td>\n",
       "      <td>1602.040519</td>\n",
       "    </tr>\n",
       "  </tbody>\n",
       "</table>\n",
       "</div>"
      ],
      "text/plain": [
       "                Age  Annual_Income  Monthly_Inhand_Salary  Num_Bank_Accounts  Num_Credit_Card  Interest_Rate   Num_of_Loan  Delay_from_due_date  Num_of_Delayed_Payment  Changed_Credit_Limit  Num_Credit_Inquiries  Outstanding_Debt  Credit_Utilization_Ratio  Total_EMI_per_month  Amount_invested_monthly  Monthly_Balance\n",
       "count  96761.000000   9.676100e+04           82208.000000       96761.000000     96761.000000   96761.000000  96761.000000         96761.000000            96761.000000          96761.000000          94865.000000      96761.000000              96761.000000         96761.000000             96761.000000     95587.000000\n",
       "mean      33.321752   1.769172e+05            4194.905404          17.142175        22.432550      72.631804     -0.500946            21.086233               29.924815             10.172644             27.895072       1426.666187                 32.284805          1395.907438               608.250532       402.435801\n",
       "std       10.776667   1.433619e+06            3182.626075         117.813388       128.760896     467.303318     20.180038            14.864042              216.841244              6.881360            193.814303       1155.483606                  5.118074          8277.814085              1999.411520       213.889580\n",
       "min       14.000000   7.005930e+03             303.645417          -1.000000         0.000000       1.000000   -100.000000            -5.000000               -3.000000             -6.480000              0.000000          0.230000                 20.000000             0.000000                 0.000000         0.007760\n",
       "25%       24.000000   1.946292e+04            1626.525000           3.000000         4.000000       8.000000      1.000000            10.000000                9.000000              4.970000              3.000000        566.080000                 28.053579            30.356067                67.452507       270.083355\n",
       "50%       33.000000   3.758034e+04            3096.378333           6.000000         5.000000      13.000000      3.000000            18.000000               15.000000              9.250000              6.000000       1166.230000                 32.305298            69.272824               128.772885       336.683990\n",
       "75%       42.000000   7.281702e+04            5961.637500           7.000000         7.000000      20.000000      5.000000            28.000000               19.000000             14.650000              9.000000       1948.880000                 36.498978           161.340704               255.504926       469.941466\n",
       "max       99.000000   2.419806e+07           15204.633333        1798.000000      1499.000000    5797.000000      9.000000            67.000000             4397.000000             36.970000           2597.000000       4998.070000                 50.000000         82331.000000             10000.000000      1602.040519"
      ]
     },
     "execution_count": 63,
     "metadata": {},
     "output_type": "execute_result"
    }
   ],
   "source": [
    "df.describe()"
   ]
  },
  {
   "cell_type": "code",
   "execution_count": 64,
   "id": "705c1dfd-ac9c-4b35-931d-84ec2f3c6843",
   "metadata": {},
   "outputs": [
    {
     "data": {
      "text/plain": [
       "ID                              0\n",
       "Customer_ID                     0\n",
       "Month                           0\n",
       "Name                         9667\n",
       "Age                             0\n",
       "SSN                             0\n",
       "Occupation                      0\n",
       "Annual_Income                   0\n",
       "Monthly_Inhand_Salary       14553\n",
       "Num_Bank_Accounts               0\n",
       "Num_Credit_Card                 0\n",
       "Interest_Rate                   0\n",
       "Num_of_Loan                     0\n",
       "Type_of_Loan                11017\n",
       "Delay_from_due_date             0\n",
       "Num_of_Delayed_Payment          0\n",
       "Changed_Credit_Limit            0\n",
       "Num_Credit_Inquiries         1896\n",
       "Credit_Mix                      0\n",
       "Outstanding_Debt                0\n",
       "Credit_Utilization_Ratio        0\n",
       "Credit_History_Age           8747\n",
       "Payment_of_Min_Amount           0\n",
       "Total_EMI_per_month             0\n",
       "Amount_invested_monthly         0\n",
       "Payment_Behaviour               0\n",
       "Monthly_Balance              1174\n",
       "Credit_Score                    0\n",
       "dtype: int64"
      ]
     },
     "execution_count": 64,
     "metadata": {},
     "output_type": "execute_result"
    }
   ],
   "source": [
    "df.isnull().sum()"
   ]
  },
  {
   "cell_type": "markdown",
   "id": "a65a523d-8191-418b-84ae-2125a3d22cee",
   "metadata": {
    "tags": []
   },
   "source": [
    "##### 5. Others"
   ]
  },
  {
   "cell_type": "code",
   "execution_count": 65,
   "id": "c87131f2-8efd-44de-8b67-21d0cbec211d",
   "metadata": {},
   "outputs": [
    {
     "data": {
      "text/plain": [
       "_    19537\n",
       "Name: Credit_Mix, dtype: int64"
      ]
     },
     "execution_count": 65,
     "metadata": {},
     "output_type": "execute_result"
    }
   ],
   "source": [
    "df[df['Credit_Mix'].str.endswith('_')]['Credit_Mix'].value_counts()"
   ]
  },
  {
   "cell_type": "code",
   "execution_count": 66,
   "id": "de56203f-0223-4589-98e4-cf8d1b8d1b4b",
   "metadata": {},
   "outputs": [
    {
     "data": {
      "text/plain": [
       "Standard    35340\n",
       "Good        23502\n",
       "_           19537\n",
       "Bad         18382\n",
       "Name: Credit_Mix, dtype: int64"
      ]
     },
     "execution_count": 66,
     "metadata": {},
     "output_type": "execute_result"
    }
   ],
   "source": [
    "df['Credit_Mix'].value_counts()"
   ]
  },
  {
   "cell_type": "code",
   "execution_count": 67,
   "id": "8ad01cde-3ac7-4868-995c-881b01fb943b",
   "metadata": {},
   "outputs": [
    {
     "data": {
      "text/plain": [
       "312.494089    1\n",
       "384.251040    1\n",
       "319.975658    1\n",
       "342.894838    1\n",
       "335.568659    1\n",
       "             ..\n",
       "445.164732    1\n",
       "417.742261    1\n",
       "440.568856    1\n",
       "340.521285    1\n",
       "393.673696    1\n",
       "Name: Monthly_Balance, Length: 95587, dtype: int64"
      ]
     },
     "execution_count": 67,
     "metadata": {},
     "output_type": "execute_result"
    }
   ],
   "source": [
    "test = df[df['Monthly_Balance'].notnull()]\n",
    "test = test[test['Monthly_Balance'] != '__-333333333333333333333333333__']\n",
    "test['Monthly_Balance'].value_counts()"
   ]
  }
 ],
 "metadata": {
  "kernelspec": {
   "display_name": "Python 3 (ipykernel)",
   "language": "python",
   "name": "python3"
  },
  "language_info": {
   "codemirror_mode": {
    "name": "ipython",
    "version": 3
   },
   "file_extension": ".py",
   "mimetype": "text/x-python",
   "name": "python",
   "nbconvert_exporter": "python",
   "pygments_lexer": "ipython3",
   "version": "3.7.6"
  }
 },
 "nbformat": 4,
 "nbformat_minor": 5
}
